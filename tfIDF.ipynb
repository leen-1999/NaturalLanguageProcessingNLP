{
 "cells": [
  {
   "cell_type": "code",
   "execution_count": 3,
   "metadata": {},
   "outputs": [],
   "source": [
    "! pip install sklearn"
   ]
  },
  {
   "cell_type": "code",
   "execution_count": 4,
   "metadata": {},
   "outputs": [],
   "source": [
    "import pandas as pd\n",
    "from sklearn.feature_extraction.text import TfidfVectorizer"
   ]
  },
  {
   "cell_type": "code",
   "execution_count": 5,
   "metadata": {},
   "outputs": [],
   "source": [
    "documentA = 'the man went out for a walk'\n",
    "documentB = 'the children sat around the fire'"
   ]
  },
  {
   "cell_type": "code",
   "execution_count": 6,
   "metadata": {},
   "outputs": [
    {
     "data": {
      "text/plain": [
       "['the', 'man', 'went', 'out', 'for', 'a', 'walk']"
      ]
     },
     "execution_count": 6,
     "metadata": {},
     "output_type": "execute_result"
    }
   ],
   "source": [
    "bagOfWordsA = documentA.split(' ')\n",
    "bagOfWordsB = documentB.split(' ')\n",
    "bagOfWordsA # ['the', 'man', 'went', 'out', 'for', 'a', 'walk']"
   ]
  },
  {
   "cell_type": "code",
   "execution_count": 7,
   "metadata": {},
   "outputs": [
    {
     "data": {
      "text/plain": [
       "{'a',\n",
       " 'around',\n",
       " 'children',\n",
       " 'fire',\n",
       " 'for',\n",
       " 'man',\n",
       " 'out',\n",
       " 'sat',\n",
       " 'the',\n",
       " 'walk',\n",
       " 'went'}"
      ]
     },
     "execution_count": 7,
     "metadata": {},
     "output_type": "execute_result"
    }
   ],
   "source": [
    "uniqueWords = set(bagOfWordsA).union(set(bagOfWordsB))\n",
    "uniqueWords \n",
    "# {'a',\n",
    "#  'around',\n",
    "#  'children',\n",
    "#  'fire',\n",
    "#  'for',\n",
    "#  'man',\n",
    "#  'out',\n",
    "#  'sat',\n",
    "#  'the',\n",
    "#  'walk',\n",
    "#  'went'}"
   ]
  },
  {
   "cell_type": "code",
   "execution_count": 21,
   "metadata": {},
   "outputs": [
    {
     "data": {
      "text/plain": [
       "{'sat': 0,\n",
       " 'children': 0,\n",
       " 'for': 1,\n",
       " 'went': 1,\n",
       " 'the': 1,\n",
       " 'a': 1,\n",
       " 'out': 1,\n",
       " 'man': 1,\n",
       " 'around': 0,\n",
       " 'fire': 0,\n",
       " 'walk': 1}"
      ]
     },
     "execution_count": 21,
     "metadata": {},
     "output_type": "execute_result"
    }
   ],
   "source": [
    "# kelimelerden dictionary yaratıp value olarak da her birine 0 atıyor\n",
    "numOfWordsA = dict.fromkeys(uniqueWords, 0)\n",
    "for word in bagOfWordsA:\n",
    "    numOfWordsA[word] += 1\n",
    "numOfWordsB = dict.fromkeys(uniqueWords, 0)\n",
    "for word in bagOfWordsB:\n",
    "    numOfWordsB[word] += 1\n",
    "numOfWordsA\n",
    "\n",
    "# {'sat': 0,\n",
    "#  'children': 0,\n",
    "#  'for': 1,\n",
    "#  'went': 1,\n",
    "#  'the': 1,\n",
    "#  'a': 1,\n",
    "#  'out': 1,\n",
    "#  'man': 1,\n",
    "#  'around': 0,\n",
    "#  'fire': 0,\n",
    "#  'walk': 1}"
   ]
  },
  {
   "cell_type": "code",
   "execution_count": 18,
   "metadata": {},
   "outputs": [
    {
     "data": {
      "text/plain": [
       "['i',\n",
       " 'me',\n",
       " 'my',\n",
       " 'myself',\n",
       " 'we',\n",
       " 'our',\n",
       " 'ours',\n",
       " 'ourselves',\n",
       " 'you',\n",
       " \"you're\",\n",
       " \"you've\",\n",
       " \"you'll\",\n",
       " \"you'd\",\n",
       " 'your',\n",
       " 'yours',\n",
       " 'yourself',\n",
       " 'yourselves',\n",
       " 'he',\n",
       " 'him',\n",
       " 'his',\n",
       " 'himself',\n",
       " 'she',\n",
       " \"she's\",\n",
       " 'her',\n",
       " 'hers',\n",
       " 'herself',\n",
       " 'it',\n",
       " \"it's\",\n",
       " 'its',\n",
       " 'itself',\n",
       " 'they',\n",
       " 'them',\n",
       " 'their',\n",
       " 'theirs',\n",
       " 'themselves',\n",
       " 'what',\n",
       " 'which',\n",
       " 'who',\n",
       " 'whom',\n",
       " 'this',\n",
       " 'that',\n",
       " \"that'll\",\n",
       " 'these',\n",
       " 'those',\n",
       " 'am',\n",
       " 'is',\n",
       " 'are',\n",
       " 'was',\n",
       " 'were',\n",
       " 'be',\n",
       " 'been',\n",
       " 'being',\n",
       " 'have',\n",
       " 'has',\n",
       " 'had',\n",
       " 'having',\n",
       " 'do',\n",
       " 'does',\n",
       " 'did',\n",
       " 'doing',\n",
       " 'a',\n",
       " 'an',\n",
       " 'the',\n",
       " 'and',\n",
       " 'but',\n",
       " 'if',\n",
       " 'or',\n",
       " 'because',\n",
       " 'as',\n",
       " 'until',\n",
       " 'while',\n",
       " 'of',\n",
       " 'at',\n",
       " 'by',\n",
       " 'for',\n",
       " 'with',\n",
       " 'about',\n",
       " 'against',\n",
       " 'between',\n",
       " 'into',\n",
       " 'through',\n",
       " 'during',\n",
       " 'before',\n",
       " 'after',\n",
       " 'above',\n",
       " 'below',\n",
       " 'to',\n",
       " 'from',\n",
       " 'up',\n",
       " 'down',\n",
       " 'in',\n",
       " 'out',\n",
       " 'on',\n",
       " 'off',\n",
       " 'over',\n",
       " 'under',\n",
       " 'again',\n",
       " 'further',\n",
       " 'then',\n",
       " 'once',\n",
       " 'here',\n",
       " 'there',\n",
       " 'when',\n",
       " 'where',\n",
       " 'why',\n",
       " 'how',\n",
       " 'all',\n",
       " 'any',\n",
       " 'both',\n",
       " 'each',\n",
       " 'few',\n",
       " 'more',\n",
       " 'most',\n",
       " 'other',\n",
       " 'some',\n",
       " 'such',\n",
       " 'no',\n",
       " 'nor',\n",
       " 'not',\n",
       " 'only',\n",
       " 'own',\n",
       " 'same',\n",
       " 'so',\n",
       " 'than',\n",
       " 'too',\n",
       " 'very',\n",
       " 's',\n",
       " 't',\n",
       " 'can',\n",
       " 'will',\n",
       " 'just',\n",
       " 'don',\n",
       " \"don't\",\n",
       " 'should',\n",
       " \"should've\",\n",
       " 'now',\n",
       " 'd',\n",
       " 'll',\n",
       " 'm',\n",
       " 'o',\n",
       " 're',\n",
       " 've',\n",
       " 'y',\n",
       " 'ain',\n",
       " 'aren',\n",
       " \"aren't\",\n",
       " 'couldn',\n",
       " \"couldn't\",\n",
       " 'didn',\n",
       " \"didn't\",\n",
       " 'doesn',\n",
       " \"doesn't\",\n",
       " 'hadn',\n",
       " \"hadn't\",\n",
       " 'hasn',\n",
       " \"hasn't\",\n",
       " 'haven',\n",
       " \"haven't\",\n",
       " 'isn',\n",
       " \"isn't\",\n",
       " 'ma',\n",
       " 'mightn',\n",
       " \"mightn't\",\n",
       " 'mustn',\n",
       " \"mustn't\",\n",
       " 'needn',\n",
       " \"needn't\",\n",
       " 'shan',\n",
       " \"shan't\",\n",
       " 'shouldn',\n",
       " \"shouldn't\",\n",
       " 'wasn',\n",
       " \"wasn't\",\n",
       " 'weren',\n",
       " \"weren't\",\n",
       " 'won',\n",
       " \"won't\",\n",
       " 'wouldn',\n",
       " \"wouldn't\"]"
      ]
     },
     "execution_count": 18,
     "metadata": {},
     "output_type": "execute_result"
    }
   ],
   "source": [
    "from nltk.corpus import stopwords\n",
    "stopwords.words('english')"
   ]
  },
  {
   "cell_type": "code",
   "execution_count": 9,
   "metadata": {},
   "outputs": [],
   "source": [
    "def computeTF(wordDict, bagOfWords):\n",
    "    tfDict = {}\n",
    "    bagOfWordsCount = len(bagOfWords)\n",
    "    for word, count in wordDict.items():\n",
    "        tfDict[word] = count / float(bagOfWordsCount)\n",
    "    return tfDict"
   ]
  },
  {
   "cell_type": "code",
   "execution_count": 10,
   "metadata": {},
   "outputs": [
    {
     "data": {
      "text/plain": [
       "{'sat': 0.0,\n",
       " 'children': 0.0,\n",
       " 'for': 0.14285714285714285,\n",
       " 'went': 0.14285714285714285,\n",
       " 'the': 0.14285714285714285,\n",
       " 'a': 0.14285714285714285,\n",
       " 'out': 0.14285714285714285,\n",
       " 'man': 0.14285714285714285,\n",
       " 'around': 0.0,\n",
       " 'fire': 0.0,\n",
       " 'walk': 0.14285714285714285}"
      ]
     },
     "execution_count": 10,
     "metadata": {},
     "output_type": "execute_result"
    }
   ],
   "source": [
    "tfA = computeTF(numOfWordsA, bagOfWordsA)\n",
    "tfB = computeTF(numOfWordsB, bagOfWordsB)\n",
    "tfA\n",
    "\n",
    "# {'sat': 0.0,\n",
    "#  'children': 0.0,\n",
    "#  'for': 0.14285714285714285,\n",
    "#  'went': 0.14285714285714285,\n",
    "#  'the': 0.14285714285714285,\n",
    "#  'a': 0.14285714285714285,\n",
    "#  'out': 0.14285714285714285,\n",
    "#  'man': 0.14285714285714285,\n",
    "#  'around': 0.0,\n",
    "#  'fire': 0.0,\n",
    "#  'walk': 0.14285714285714285}"
   ]
  },
  {
   "cell_type": "code",
   "execution_count": 22,
   "metadata": {},
   "outputs": [],
   "source": [
    "def computeIDF(documents):\n",
    "    import math\n",
    "    N = len(documents) # is 2\n",
    "    # print(N) # 2\n",
    "    # print(\"*\"*30)\n",
    "    # print(documents) # [{'sat': 0, 'children': 0, 'for': 1, 'went': 1, 'the': 1, 'a': 1, 'out': 1, 'man': 1, 'around': 0, 'fire': 0, 'walk': 1}, {'sat': 1, 'children': 1, 'for': 0, 'went': 0, 'the': 2, 'a': 0, 'out': 0, 'man': 0, 'around': 1, 'fire': 1, 'walk': 0}]\n",
    "    idfDict = dict.fromkeys(documents[0].keys(), 0)  # {'sat': 0, 'children': 0, 'for': 0, 'went': 0, 'the': 0, 'a': 0, 'out': 0, 'man': 0, 'around': 0, 'fire': 0, 'walk': 0}\n",
    "    # print(\"*\"*30) \n",
    "    # print(idfDict) # {'sat': 0, 'children': 0, 'for': 0, 'went': 0, 'the': 0, 'a': 0, 'out': 0, 'man': 0, 'around': 0, 'fire': 0, 'walk': 0}\n",
    "    # print(\"*\"*30)\n",
    "    # print(documents) #[{'sat': 0, 'children': 0, 'for': 1, 'went': 1, 'the': 1, 'a': 1, 'out': 1, 'man': 1, 'around': 0, 'fire': 0, 'walk': 1}, {'sat': 1, 'children': 1, 'for': 0, 'went': 0, 'the': 2, 'a': 0, 'out': 0, 'man': 0, 'around': 1, 'fire': 1, 'walk': 0}]\n",
    "    # print(\"*\"*30)\n",
    "    for document in documents:\n",
    "        for word, val in document.items():\n",
    "            if val > 0:\n",
    "                idfDict[word] += 1\n",
    "    # print(idfDict) #{'sat': 1, 'children': 1, 'for': 1, 'went': 1, 'the': 2, 'a': 1, 'out': 1, 'man': 1, 'around': 1, 'fire': 1, 'walk': 1}\n",
    "    for word, val in idfDict.items():\n",
    "        idfDict[word] = math.log(N / float(val))\n",
    "    return idfDict"
   ]
  },
  {
   "cell_type": "code",
   "execution_count": 27,
   "metadata": {},
   "outputs": [
    {
     "name": "stdout",
     "output_type": "stream",
     "text": [
      "2\n",
      "******************************\n",
      "[{'sat': 0, 'children': 0, 'for': 1, 'went': 1, 'the': 1, 'a': 1, 'out': 1, 'man': 1, 'around': 0, 'fire': 0, 'walk': 1}, {'sat': 1, 'children': 1, 'for': 0, 'went': 0, 'the': 2, 'a': 0, 'out': 0, 'man': 0, 'around': 1, 'fire': 1, 'walk': 0}]\n",
      "******************************\n",
      "{'sat': 0, 'children': 0, 'for': 0, 'went': 0, 'the': 0, 'a': 0, 'out': 0, 'man': 0, 'around': 0, 'fire': 0, 'walk': 0}\n",
      "******************************\n",
      "[{'sat': 0, 'children': 0, 'for': 1, 'went': 1, 'the': 1, 'a': 1, 'out': 1, 'man': 1, 'around': 0, 'fire': 0, 'walk': 1}, {'sat': 1, 'children': 1, 'for': 0, 'went': 0, 'the': 2, 'a': 0, 'out': 0, 'man': 0, 'around': 1, 'fire': 1, 'walk': 0}]\n",
      "******************************\n",
      "{'sat': 1, 'children': 1, 'for': 1, 'went': 1, 'the': 2, 'a': 1, 'out': 1, 'man': 1, 'around': 1, 'fire': 1, 'walk': 1}\n"
     ]
    },
    {
     "data": {
      "text/plain": [
       "{'sat': 0.6931471805599453,\n",
       " 'children': 0.6931471805599453,\n",
       " 'for': 0.6931471805599453,\n",
       " 'went': 0.6931471805599453,\n",
       " 'the': 0.0,\n",
       " 'a': 0.6931471805599453,\n",
       " 'out': 0.6931471805599453,\n",
       " 'man': 0.6931471805599453,\n",
       " 'around': 0.6931471805599453,\n",
       " 'fire': 0.6931471805599453,\n",
       " 'walk': 0.6931471805599453}"
      ]
     },
     "execution_count": 27,
     "metadata": {},
     "output_type": "execute_result"
    }
   ],
   "source": [
    "idfs = computeIDF([numOfWordsA, numOfWordsB])\n",
    "idfs\n",
    "\n",
    "# {'sat': 0.6931471805599453,\n",
    "#  'children': 0.6931471805599453,\n",
    "#  'for': 0.6931471805599453,\n",
    "#  'went': 0.6931471805599453,\n",
    "#  'the': 0.0,\n",
    "#  'a': 0.6931471805599453,\n",
    "#  'out': 0.6931471805599453,\n",
    "#  'man': 0.6931471805599453,\n",
    "#  'around': 0.6931471805599453,\n",
    "#  'fire': 0.6931471805599453,\n",
    "#  'walk': 0.6931471805599453}"
   ]
  },
  {
   "cell_type": "code",
   "execution_count": 24,
   "metadata": {},
   "outputs": [],
   "source": [
    "def computeTFIDF(tfBagOfWords, idfs):\n",
    "    tfidf = {}\n",
    "    for word, val in tfBagOfWords.items():\n",
    "        tfidf[word] = val * idfs[word]\n",
    "    return tfidf"
   ]
  },
  {
   "cell_type": "code",
   "execution_count": 25,
   "metadata": {},
   "outputs": [
    {
     "data": {
      "text/html": [
       "<div>\n",
       "<style scoped>\n",
       "    .dataframe tbody tr th:only-of-type {\n",
       "        vertical-align: middle;\n",
       "    }\n",
       "\n",
       "    .dataframe tbody tr th {\n",
       "        vertical-align: top;\n",
       "    }\n",
       "\n",
       "    .dataframe thead th {\n",
       "        text-align: right;\n",
       "    }\n",
       "</style>\n",
       "<table border=\"1\" class=\"dataframe\">\n",
       "  <thead>\n",
       "    <tr style=\"text-align: right;\">\n",
       "      <th></th>\n",
       "      <th>sat</th>\n",
       "      <th>children</th>\n",
       "      <th>for</th>\n",
       "      <th>went</th>\n",
       "      <th>the</th>\n",
       "      <th>a</th>\n",
       "      <th>out</th>\n",
       "      <th>man</th>\n",
       "      <th>around</th>\n",
       "      <th>fire</th>\n",
       "      <th>walk</th>\n",
       "    </tr>\n",
       "  </thead>\n",
       "  <tbody>\n",
       "    <tr>\n",
       "      <th>0</th>\n",
       "      <td>0.000000</td>\n",
       "      <td>0.000000</td>\n",
       "      <td>0.099021</td>\n",
       "      <td>0.099021</td>\n",
       "      <td>0.0</td>\n",
       "      <td>0.099021</td>\n",
       "      <td>0.099021</td>\n",
       "      <td>0.099021</td>\n",
       "      <td>0.000000</td>\n",
       "      <td>0.000000</td>\n",
       "      <td>0.099021</td>\n",
       "    </tr>\n",
       "    <tr>\n",
       "      <th>1</th>\n",
       "      <td>0.115525</td>\n",
       "      <td>0.115525</td>\n",
       "      <td>0.000000</td>\n",
       "      <td>0.000000</td>\n",
       "      <td>0.0</td>\n",
       "      <td>0.000000</td>\n",
       "      <td>0.000000</td>\n",
       "      <td>0.000000</td>\n",
       "      <td>0.115525</td>\n",
       "      <td>0.115525</td>\n",
       "      <td>0.000000</td>\n",
       "    </tr>\n",
       "  </tbody>\n",
       "</table>\n",
       "</div>"
      ],
      "text/plain": [
       "        sat  children       for      went  the         a       out       man  \\\n",
       "0  0.000000  0.000000  0.099021  0.099021  0.0  0.099021  0.099021  0.099021   \n",
       "1  0.115525  0.115525  0.000000  0.000000  0.0  0.000000  0.000000  0.000000   \n",
       "\n",
       "     around      fire      walk  \n",
       "0  0.000000  0.000000  0.099021  \n",
       "1  0.115525  0.115525  0.000000  "
      ]
     },
     "execution_count": 25,
     "metadata": {},
     "output_type": "execute_result"
    }
   ],
   "source": [
    "tfidfA = computeTFIDF(tfA, idfs)\n",
    "tfidfB = computeTFIDF(tfB, idfs)\n",
    "df = pd.DataFrame([tfidfA, tfidfB])\n",
    "df\n",
    "\n",
    "\n",
    "# sat\tchildren\tfor\twent\tthe\ta\tout\tman\taround\tfire\twalk\n",
    "# 0\t0.000000\t0.000000\t0.099021\t0.099021\t0.0\t0.099021\t0.099021\t0.099021\t0.000000\t0.000000\t0.099021\n",
    "# 1\t0.115525\t0.115525\t0.000000\t0.000000\t0.0\t0.000000\t0.000000\t0.000000\t0.115525\t0.115525\t0.000000"
   ]
  },
  {
   "cell_type": "code",
   "execution_count": 26,
   "metadata": {},
   "outputs": [
    {
     "name": "stderr",
     "output_type": "stream",
     "text": [
      "c:\\Users\\leeng\\AppData\\Local\\Programs\\Python\\Python310\\lib\\site-packages\\sklearn\\utils\\deprecation.py:87: FutureWarning: Function get_feature_names is deprecated; get_feature_names is deprecated in 1.0 and will be removed in 1.2. Please use get_feature_names_out instead.\n",
      "  warnings.warn(msg, category=FutureWarning)\n"
     ]
    },
    {
     "data": {
      "text/html": [
       "<div>\n",
       "<style scoped>\n",
       "    .dataframe tbody tr th:only-of-type {\n",
       "        vertical-align: middle;\n",
       "    }\n",
       "\n",
       "    .dataframe tbody tr th {\n",
       "        vertical-align: top;\n",
       "    }\n",
       "\n",
       "    .dataframe thead th {\n",
       "        text-align: right;\n",
       "    }\n",
       "</style>\n",
       "<table border=\"1\" class=\"dataframe\">\n",
       "  <thead>\n",
       "    <tr style=\"text-align: right;\">\n",
       "      <th></th>\n",
       "      <th>around</th>\n",
       "      <th>children</th>\n",
       "      <th>fire</th>\n",
       "      <th>for</th>\n",
       "      <th>man</th>\n",
       "      <th>out</th>\n",
       "      <th>sat</th>\n",
       "      <th>the</th>\n",
       "      <th>walk</th>\n",
       "      <th>went</th>\n",
       "    </tr>\n",
       "  </thead>\n",
       "  <tbody>\n",
       "    <tr>\n",
       "      <th>0</th>\n",
       "      <td>0.000000</td>\n",
       "      <td>0.000000</td>\n",
       "      <td>0.000000</td>\n",
       "      <td>0.42616</td>\n",
       "      <td>0.42616</td>\n",
       "      <td>0.42616</td>\n",
       "      <td>0.000000</td>\n",
       "      <td>0.303216</td>\n",
       "      <td>0.42616</td>\n",
       "      <td>0.42616</td>\n",
       "    </tr>\n",
       "    <tr>\n",
       "      <th>1</th>\n",
       "      <td>0.407401</td>\n",
       "      <td>0.407401</td>\n",
       "      <td>0.407401</td>\n",
       "      <td>0.00000</td>\n",
       "      <td>0.00000</td>\n",
       "      <td>0.00000</td>\n",
       "      <td>0.407401</td>\n",
       "      <td>0.579739</td>\n",
       "      <td>0.00000</td>\n",
       "      <td>0.00000</td>\n",
       "    </tr>\n",
       "  </tbody>\n",
       "</table>\n",
       "</div>"
      ],
      "text/plain": [
       "     around  children      fire      for      man      out       sat  \\\n",
       "0  0.000000  0.000000  0.000000  0.42616  0.42616  0.42616  0.000000   \n",
       "1  0.407401  0.407401  0.407401  0.00000  0.00000  0.00000  0.407401   \n",
       "\n",
       "        the     walk     went  \n",
       "0  0.303216  0.42616  0.42616  \n",
       "1  0.579739  0.00000  0.00000  "
      ]
     },
     "execution_count": 26,
     "metadata": {},
     "output_type": "execute_result"
    }
   ],
   "source": [
    "vectorizer = TfidfVectorizer()\n",
    "vectors = vectorizer.fit_transform([documentA, documentB])\n",
    "feature_names = vectorizer.get_feature_names()\n",
    "dense = vectors.todense() # kelimelerin ilişkilerini hesaplıyor\n",
    "denselist = dense.tolist() \n",
    "df = pd.DataFrame(denselist, columns=feature_names)\n",
    "df\n",
    "\n",
    "# \taround\tchildren\tfire\tfor\tman\tout\tsat\tthe\twalk\twent\n",
    "# 0\t0.000000\t0.000000\t0.000000\t0.42616\t0.42616\t0.42616\t0.000000\t0.303216\t0.42616\t0.42616\n",
    "# 1\t0.407401\t0.407401\t0.407401\t0.00000\t0.00000\t0.00000\t0.407401\t0.579739\t0.00000\t0.00000"
   ]
  },
  {
   "cell_type": "code",
   "execution_count": null,
   "metadata": {},
   "outputs": [],
   "source": []
  }
 ],
 "metadata": {
  "kernelspec": {
   "display_name": "Python 3.10.2 64-bit",
   "language": "python",
   "name": "python3"
  },
  "language_info": {
   "codemirror_mode": {
    "name": "ipython",
    "version": 3
   },
   "file_extension": ".py",
   "mimetype": "text/x-python",
   "name": "python",
   "nbconvert_exporter": "python",
   "pygments_lexer": "ipython3",
   "version": "3.10.2"
  },
  "orig_nbformat": 4,
  "vscode": {
   "interpreter": {
    "hash": "ec86e37d8c4a33b52b8c61c4f62bc9e1e3a45736683b010ab5b720b527f5b582"
   }
  }
 },
 "nbformat": 4,
 "nbformat_minor": 2
}
