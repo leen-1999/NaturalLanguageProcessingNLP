{
 "cells": [
  {
   "cell_type": "code",
   "execution_count": 5,
   "metadata": {},
   "outputs": [
    {
     "name": "stdout",
     "output_type": "stream",
     "text": [
      "(50425, 2)\n"
     ]
    },
    {
     "data": {
      "text/html": [
       "<div>\n",
       "<style scoped>\n",
       "    .dataframe tbody tr th:only-of-type {\n",
       "        vertical-align: middle;\n",
       "    }\n",
       "\n",
       "    .dataframe tbody tr th {\n",
       "        vertical-align: top;\n",
       "    }\n",
       "\n",
       "    .dataframe thead th {\n",
       "        text-align: right;\n",
       "    }\n",
       "</style>\n",
       "<table border=\"1\" class=\"dataframe\">\n",
       "  <thead>\n",
       "    <tr style=\"text-align: right;\">\n",
       "      <th></th>\n",
       "      <th>label</th>\n",
       "      <th>text</th>\n",
       "    </tr>\n",
       "  </thead>\n",
       "  <tbody>\n",
       "    <tr>\n",
       "      <th>0</th>\n",
       "      <td>Household</td>\n",
       "      <td>Paper Plane Design Framed Wall Hanging Motivat...</td>\n",
       "    </tr>\n",
       "    <tr>\n",
       "      <th>1</th>\n",
       "      <td>Household</td>\n",
       "      <td>SAF 'Floral' Framed Painting (Wood, 30 inch x ...</td>\n",
       "    </tr>\n",
       "    <tr>\n",
       "      <th>2</th>\n",
       "      <td>Household</td>\n",
       "      <td>SAF 'UV Textured Modern Art Print Framed' Pain...</td>\n",
       "    </tr>\n",
       "    <tr>\n",
       "      <th>3</th>\n",
       "      <td>Household</td>\n",
       "      <td>SAF Flower Print Framed Painting (Synthetic, 1...</td>\n",
       "    </tr>\n",
       "    <tr>\n",
       "      <th>4</th>\n",
       "      <td>Household</td>\n",
       "      <td>Incredible Gifts India Wooden Happy Birthday U...</td>\n",
       "    </tr>\n",
       "  </tbody>\n",
       "</table>\n",
       "</div>"
      ],
      "text/plain": [
       "       label                                               text\n",
       "0  Household  Paper Plane Design Framed Wall Hanging Motivat...\n",
       "1  Household  SAF 'Floral' Framed Painting (Wood, 30 inch x ...\n",
       "2  Household  SAF 'UV Textured Modern Art Print Framed' Pain...\n",
       "3  Household  SAF Flower Print Framed Painting (Synthetic, 1...\n",
       "4  Household  Incredible Gifts India Wooden Happy Birthday U..."
      ]
     },
     "execution_count": 5,
     "metadata": {},
     "output_type": "execute_result"
    }
   ],
   "source": [
    "import pandas as pd\n",
    "\n",
    "#read the data into a pandas dataframe\n",
    "\n",
    "df = pd.read_csv(\"ecommerceDataset.csv\", names=['label', 'text'])#https://www.kaggle.com/datasets/saurabhshahane/ecommerce-text-classification\n",
    "print(df.shape)\n",
    "df.head(5)\n",
    "\n",
    "#(50425, 2)\n",
    "\n",
    "# \tlabel\ttext\n",
    "# 0\tHousehold\tPaper Plane Design Framed Wall Hanging Motivat...\n",
    "# 1\tHousehold\tSAF 'Floral' Framed Painting (Wood, 30 inch x ...\n",
    "# 2\tHousehold\tSAF 'UV Textured Modern Art Print Framed' Pain...\n",
    "# 3\tHousehold\tSAF Flower Print Framed Painting (Synthetic, 1...\n",
    "# 4\tHousehold\tIncredible Gifts India Wooden Happy Birthday U..."
   ]
  },
  {
   "cell_type": "code",
   "execution_count": 6,
   "metadata": {},
   "outputs": [
    {
     "data": {
      "text/plain": [
       "Household                 19313\n",
       "Books                     11820\n",
       "Electronics               10621\n",
       "Clothing & Accessories     8671\n",
       "Name: label, dtype: int64"
      ]
     },
     "execution_count": 6,
     "metadata": {},
     "output_type": "execute_result"
    }
   ],
   "source": [
    "#check the distribution of labels \n",
    "df['label'].value_counts()\n",
    "\n",
    "# Household                 19313\n",
    "# Books                     11820\n",
    "# Electronics               10621\n",
    "# Clothing & Accessories     8671\n",
    "# Name: label, dtype: int64"
   ]
  },
  {
   "cell_type": "code",
   "execution_count": 7,
   "metadata": {},
   "outputs": [
    {
     "data": {
      "text/html": [
       "<div>\n",
       "<style scoped>\n",
       "    .dataframe tbody tr th:only-of-type {\n",
       "        vertical-align: middle;\n",
       "    }\n",
       "\n",
       "    .dataframe tbody tr th {\n",
       "        vertical-align: top;\n",
       "    }\n",
       "\n",
       "    .dataframe thead th {\n",
       "        text-align: right;\n",
       "    }\n",
       "</style>\n",
       "<table border=\"1\" class=\"dataframe\">\n",
       "  <thead>\n",
       "    <tr style=\"text-align: right;\">\n",
       "      <th></th>\n",
       "      <th>label</th>\n",
       "      <th>text</th>\n",
       "    </tr>\n",
       "  </thead>\n",
       "  <tbody>\n",
       "    <tr>\n",
       "      <th>5798</th>\n",
       "      <td>Household</td>\n",
       "      <td>Deco Home Polyester Bedding Set of 1 Duvet, 2 ...</td>\n",
       "    </tr>\n",
       "    <tr>\n",
       "      <th>12672</th>\n",
       "      <td>Household</td>\n",
       "      <td>1 : Jura 72629 Clearyl Smart Coffee Machine, G...</td>\n",
       "    </tr>\n",
       "    <tr>\n",
       "      <th>14970</th>\n",
       "      <td>Household</td>\n",
       "      <td>Mitashi 87 L 2 Star Direct Cool Single Door Re...</td>\n",
       "    </tr>\n",
       "    <tr>\n",
       "      <th>4608</th>\n",
       "      <td>Household</td>\n",
       "      <td>Iris Jasmine Home Fragrance Potpourri (100gm, ...</td>\n",
       "    </tr>\n",
       "    <tr>\n",
       "      <th>704</th>\n",
       "      <td>Household</td>\n",
       "      <td>Savers Choice Junglewood Textured 4 Door Wardr...</td>\n",
       "    </tr>\n",
       "  </tbody>\n",
       "</table>\n",
       "</div>"
      ],
      "text/plain": [
       "           label                                               text\n",
       "5798   Household  Deco Home Polyester Bedding Set of 1 Duvet, 2 ...\n",
       "12672  Household  1 : Jura 72629 Clearyl Smart Coffee Machine, G...\n",
       "14970  Household  Mitashi 87 L 2 Star Direct Cool Single Door Re...\n",
       "4608   Household  Iris Jasmine Home Fragrance Potpourri (100gm, ...\n",
       "704    Household  Savers Choice Junglewood Textured 4 Door Wardr..."
      ]
     },
     "execution_count": 7,
     "metadata": {},
     "output_type": "execute_result"
    }
   ],
   "source": [
    "dfHouseHold=df[df['label']=='Household'].sample(8671)\n",
    "dfBooks=df[df['label']=='Books'].sample(8671)\n",
    "dfelec=df[df['label']=='Electronics'].sample(8671)\n",
    "dfClot=df[df['label']=='Clothing & Accessories']\n",
    "\n",
    "dfEqual=pd.concat([dfHouseHold,dfBooks,dfelec,dfClot],axis=0)\n",
    "dfEqual.head() # soldaki çıkan değerler index değerleri kendisi veriyor\n",
    "\n",
    "# \tlabel\ttext\n",
    "# 5798\tHousehold\tDeco Home Polyester Bedding Set of 1 Duvet, 2 ...\n",
    "# 12672\tHousehold\t1 : Jura 72629 Clearyl Smart Coffee Machine, G...\n",
    "# 14970\tHousehold\tMitashi 87 L 2 Star Direct Cool Single Door Re...\n",
    "# 4608\tHousehold\tIris Jasmine Home Fragrance Potpourri (100gm, ...\n",
    "# 704\tHousehold\tSavers Choice Junglewood Textured 4 Door Wardr..."
   ]
  },
  {
   "cell_type": "code",
   "execution_count": 8,
   "metadata": {},
   "outputs": [
    {
     "data": {
      "text/plain": [
       "Household                 8671\n",
       "Books                     8671\n",
       "Electronics               8671\n",
       "Clothing & Accessories    8671\n",
       "Name: label, dtype: int64"
      ]
     },
     "execution_count": 8,
     "metadata": {},
     "output_type": "execute_result"
    }
   ],
   "source": [
    "dfEqual['label'].value_counts()\n",
    "\n",
    "# Household                 8671\n",
    "# Books                     8671\n",
    "# Electronics               8671\n",
    "# Clothing & Accessories    8671\n",
    "# Name: label, dtype: int64"
   ]
  },
  {
   "cell_type": "code",
   "execution_count": 9,
   "metadata": {},
   "outputs": [
    {
     "data": {
      "text/html": [
       "<div>\n",
       "<style scoped>\n",
       "    .dataframe tbody tr th:only-of-type {\n",
       "        vertical-align: middle;\n",
       "    }\n",
       "\n",
       "    .dataframe tbody tr th {\n",
       "        vertical-align: top;\n",
       "    }\n",
       "\n",
       "    .dataframe thead th {\n",
       "        text-align: right;\n",
       "    }\n",
       "</style>\n",
       "<table border=\"1\" class=\"dataframe\">\n",
       "  <thead>\n",
       "    <tr style=\"text-align: right;\">\n",
       "      <th></th>\n",
       "      <th>label</th>\n",
       "      <th>text</th>\n",
       "      <th>label_num</th>\n",
       "    </tr>\n",
       "  </thead>\n",
       "  <tbody>\n",
       "    <tr>\n",
       "      <th>5798</th>\n",
       "      <td>Household</td>\n",
       "      <td>Deco Home Polyester Bedding Set of 1 Duvet, 2 ...</td>\n",
       "      <td>0</td>\n",
       "    </tr>\n",
       "    <tr>\n",
       "      <th>12672</th>\n",
       "      <td>Household</td>\n",
       "      <td>1 : Jura 72629 Clearyl Smart Coffee Machine, G...</td>\n",
       "      <td>0</td>\n",
       "    </tr>\n",
       "    <tr>\n",
       "      <th>14970</th>\n",
       "      <td>Household</td>\n",
       "      <td>Mitashi 87 L 2 Star Direct Cool Single Door Re...</td>\n",
       "      <td>0</td>\n",
       "    </tr>\n",
       "    <tr>\n",
       "      <th>4608</th>\n",
       "      <td>Household</td>\n",
       "      <td>Iris Jasmine Home Fragrance Potpourri (100gm, ...</td>\n",
       "      <td>0</td>\n",
       "    </tr>\n",
       "    <tr>\n",
       "      <th>704</th>\n",
       "      <td>Household</td>\n",
       "      <td>Savers Choice Junglewood Textured 4 Door Wardr...</td>\n",
       "      <td>0</td>\n",
       "    </tr>\n",
       "  </tbody>\n",
       "</table>\n",
       "</div>"
      ],
      "text/plain": [
       "           label                                               text  label_num\n",
       "5798   Household  Deco Home Polyester Bedding Set of 1 Duvet, 2 ...          0\n",
       "12672  Household  1 : Jura 72629 Clearyl Smart Coffee Machine, G...          0\n",
       "14970  Household  Mitashi 87 L 2 Star Direct Cool Single Door Re...          0\n",
       "4608   Household  Iris Jasmine Home Fragrance Potpourri (100gm, ...          0\n",
       "704    Household  Savers Choice Junglewood Textured 4 Door Wardr...          0"
      ]
     },
     "execution_count": 9,
     "metadata": {},
     "output_type": "execute_result"
    }
   ],
   "source": [
    "dfEqual['label_num'] = dfEqual['label'].map({\n",
    "    'Household' : 0, \n",
    "    'Books': 1, \n",
    "    'Electronics': 2, \n",
    "    'Clothing & Accessories': 3\n",
    "})\n",
    "\n",
    "#checking the results \n",
    "dfEqual.head(5)\n",
    "\n",
    "# label\ttext\tlabel_num\n",
    "# 5798\tHousehold\tDeco Home Polyester Bedding Set of 1 Duvet, 2 ...\t0\n",
    "# 12672\tHousehold\t1 : Jura 72629 Clearyl Smart Coffee Machine, G...\t0\n",
    "# 14970\tHousehold\tMitashi 87 L 2 Star Direct Cool Single Door Re...\t0\n",
    "# 4608\tHousehold\tIris Jasmine Home Fragrance Potpourri (100gm, ...\t0\n",
    "# 704\tHousehold\tSavers Choice Junglewood Textured 4 Door Wardr...\t0"
   ]
  },
  {
   "cell_type": "code",
   "execution_count": 10,
   "metadata": {},
   "outputs": [
    {
     "name": "stdout",
     "output_type": "stream",
     "text": [
      "<class 'pandas.core.frame.DataFrame'>\n",
      "Int64Index: 34684 entries, 5798 to 39803\n",
      "Data columns (total 3 columns):\n",
      " #   Column     Non-Null Count  Dtype \n",
      "---  ------     --------------  ----- \n",
      " 0   label      34684 non-null  object\n",
      " 1   text       34683 non-null  object\n",
      " 2   label_num  34684 non-null  int64 \n",
      "dtypes: int64(1), object(2)\n",
      "memory usage: 1.1+ MB\n"
     ]
    }
   ],
   "source": [
    "dfEqual.info()\n",
    "\n",
    "# <class 'pandas.core.frame.DataFrame'>\n",
    "# Int64Index: 34684 entries, 5798 to 39803\n",
    "# Data columns (total 3 columns):\n",
    "#  #   Column     Non-Null Count  Dtype \n",
    "# ---  ------     --------------  ----- \n",
    "#  0   label      34684 non-null  object\n",
    "#  1   text       34683 non-null  object\n",
    "#  2   label_num  34684 non-null  int64 \n",
    "# dtypes: int64(1), object(2)\n",
    "# memory usage: 1.1+ MB"
   ]
  },
  {
   "cell_type": "code",
   "execution_count": 11,
   "metadata": {},
   "outputs": [],
   "source": [
    "dfEqual.text = dfEqual.text.fillna('')"
   ]
  },
  {
   "cell_type": "code",
   "execution_count": 12,
   "metadata": {},
   "outputs": [],
   "source": [
    "from sklearn.model_selection import train_test_split\n",
    "\n",
    "X_train, X_test, y_train, y_test = train_test_split(\n",
    "    dfEqual.text, \n",
    "    dfEqual.label_num, \n",
    "    test_size=0.2, # 20% samples will go to test dataset\n",
    "    random_state=2022, # random state bu kodu her çalıştırdığımızda  ilk \n",
    "    # çalıştırmamızdaki test ve train setlerine verdiği değerleri versin(onları tekrar seçsin)\n",
    "    stratify=dfEqual.label_num\n",
    ")"
   ]
  },
  {
   "cell_type": "code",
   "execution_count": 13,
   "metadata": {},
   "outputs": [
    {
     "name": "stdout",
     "output_type": "stream",
     "text": [
      "Shape of X_train:  (27747,)\n",
      "Shape of X_test:  (6937,)\n"
     ]
    }
   ],
   "source": [
    "print(\"Shape of X_train: \", X_train.shape)\n",
    "print(\"Shape of X_test: \", X_test.shape)\n",
    "\n",
    "# Shape of X_train:  (27747,)\n",
    "# Shape of X_test:  (6937,)"
   ]
  },
  {
   "cell_type": "code",
   "execution_count": 14,
   "metadata": {},
   "outputs": [
    {
     "data": {
      "text/plain": [
       "5344     ELEVANTO Premium Collection Half Sleeve Soft T...\n",
       "11413    LUKZER Kitchen Cutlery Organiser and Basin Sin...\n",
       "29462    Cambridge Primary Science Stage 2 Activity Boo...\n",
       "36726    Sona Women's Cross Chiken Everyday Plus Size F...\n",
       "34569    Lux Cottswool Men's Cotton Thermal Set Cope wi...\n",
       "Name: text, dtype: object"
      ]
     },
     "execution_count": 14,
     "metadata": {},
     "output_type": "execute_result"
    }
   ],
   "source": [
    "X_train.head()\n",
    "\n",
    "# 5344     ELEVANTO Premium Collection Half Sleeve Soft T...\n",
    "# 11413    LUKZER Kitchen Cutlery Organiser and Basin Sin...\n",
    "# 29462    Cambridge Primary Science Stage 2 Activity Boo...\n",
    "# 36726    Sona Women's Cross Chiken Everyday Plus Size F...\n",
    "# 34569    Lux Cottswool Men's Cotton Thermal Set Cope wi...\n",
    "# Name: text, dtype: object"
   ]
  },
  {
   "cell_type": "code",
   "execution_count": 15,
   "metadata": {},
   "outputs": [
    {
     "data": {
      "text/plain": [
       "0    6937\n",
       "3    6937\n",
       "2    6937\n",
       "1    6936\n",
       "Name: label_num, dtype: int64"
      ]
     },
     "execution_count": 15,
     "metadata": {},
     "output_type": "execute_result"
    }
   ],
   "source": [
    "y_train.value_counts()\n",
    "\n",
    "# 0    6937\n",
    "# 3    6937\n",
    "# 2    6937\n",
    "# 1    6936\n",
    "# Name: label_num, dtype: int64"
   ]
  },
  {
   "cell_type": "code",
   "execution_count": 16,
   "metadata": {},
   "outputs": [
    {
     "data": {
      "text/plain": [
       "1    1735\n",
       "0    1734\n",
       "2    1734\n",
       "3    1734\n",
       "Name: label_num, dtype: int64"
      ]
     },
     "execution_count": 16,
     "metadata": {},
     "output_type": "execute_result"
    }
   ],
   "source": [
    "y_test.value_counts()\n",
    "\n",
    "# 1    1735\n",
    "# 0    1734\n",
    "# 2    1734\n",
    "# 3    1734\n",
    "# Name: label_num, dtype: int64"
   ]
  },
  {
   "cell_type": "code",
   "execution_count": 17,
   "metadata": {},
   "outputs": [
    {
     "name": "stdout",
     "output_type": "stream",
     "text": [
      "              precision    recall  f1-score   support\n",
      "\n",
      "           0       0.93      0.94      0.94      1734\n",
      "           1       0.96      0.96      0.96      1735\n",
      "           2       0.96      0.94      0.95      1734\n",
      "           3       0.97      0.98      0.97      1734\n",
      "\n",
      "    accuracy                           0.95      6937\n",
      "   macro avg       0.95      0.95      0.95      6937\n",
      "weighted avg       0.95      0.95      0.95      6937\n",
      "\n"
     ]
    }
   ],
   "source": [
    "from sklearn.neighbors import KNeighborsClassifier\n",
    "from sklearn.pipeline import Pipeline\n",
    "from sklearn.metrics import classification_report\n",
    "from sklearn.feature_extraction.text import TfidfVectorizer\n",
    "\n",
    "#1. create a pipeline object  # verilenleri peşpeşe yapar\n",
    "clf = Pipeline([\n",
    "     ('vectorizer_tfidf',TfidfVectorizer()),    \n",
    "     ('KNN', KNeighborsClassifier())         \n",
    "])\n",
    "\n",
    "#2. fit with X_train and y_train  # bizim verdiğimiz X_train, y_train dataları clf'ye göre uyarla\n",
    "clf.fit(X_train, y_train)\n",
    "\n",
    "\n",
    "#3. get the predictions for X_test and store it in y_pred\n",
    "y_pred = clf.predict(X_test)\n",
    "\n",
    "\n",
    "#4. print the classfication report\n",
    "print(classification_report(y_test, y_pred))\n",
    "\n",
    "\n",
    "#               precision    recall  f1-score   support\n",
    "\n",
    "#            0       0.93      0.94      0.94      1734\n",
    "#            1       0.96      0.96      0.96      1735\n",
    "#            2       0.96      0.94      0.95      1734\n",
    "#            3       0.97      0.98      0.97      1734\n",
    "\n",
    "#     accuracy                           0.95      6937\n",
    "#    macro avg       0.95      0.95      0.95      6937\n",
    "# weighted avg       0.95      0.95      0.95      6937\n"
   ]
  },
  {
   "cell_type": "code",
   "execution_count": 18,
   "metadata": {},
   "outputs": [
    {
     "name": "stderr",
     "output_type": "stream",
     "text": [
      "C:\\Users\\leeng\\AppData\\Local\\Temp/ipykernel_2520/2325576690.py:1: FutureWarning: The behavior of `series[i:j]` with an integer-dtype index is deprecated. In a future version, this will be treated as *label-based* indexing, consistent with e.g. `series[i]` lookups. To retain the old behavior, use `series.iloc[i:j]`. To get the future behavior, use `series.loc[i:j]`.\n",
      "  X_test[:5]\n"
     ]
    },
    {
     "data": {
      "text/plain": [
       "23344             Copy Colour: Fruits (Copy Colour Books) \n",
       "18640    Bull 4 Socket,1 Switch,3 M Wire Extension Boar...\n",
       "43917    FiiO D03K Optical to Stereo Audio Converter Th...\n",
       "41110    Nourish Vitals Pure Aloe Vera Drinking Gel Jui...\n",
       "5511     SHAMBHAVI 300 GSM Cotton Hand Towel Set (Blue ...\n",
       "Name: text, dtype: object"
      ]
     },
     "execution_count": 18,
     "metadata": {},
     "output_type": "execute_result"
    }
   ],
   "source": [
    "X_test[:5]\n",
    "\n",
    "# 23344             Copy Colour: Fruits (Copy Colour Books) \n",
    "# 18640    Bull 4 Socket,1 Switch,3 M Wire Extension Boar...\n",
    "# 43917    FiiO D03K Optical to Stereo Audio Converter Th...\n",
    "# 41110    Nourish Vitals Pure Aloe Vera Drinking Gel Jui...\n",
    "# 5511     SHAMBHAVI 300 GSM Cotton Hand Towel Set (Blue ..."
   ]
  },
  {
   "cell_type": "code",
   "execution_count": 19,
   "metadata": {},
   "outputs": [
    {
     "name": "stderr",
     "output_type": "stream",
     "text": [
      "C:\\Users\\leeng\\AppData\\Local\\Temp/ipykernel_2520/1754177261.py:1: FutureWarning: The behavior of `series[i:j]` with an integer-dtype index is deprecated. In a future version, this will be treated as *label-based* indexing, consistent with e.g. `series[i]` lookups. To retain the old behavior, use `series.iloc[i:j]`. To get the future behavior, use `series.loc[i:j]`.\n",
      "  y_test[:5]\n"
     ]
    },
    {
     "data": {
      "text/plain": [
       "23344    1\n",
       "18640    0\n",
       "43917    2\n",
       "41110    2\n",
       "5511     0\n",
       "Name: label_num, dtype: int64"
      ]
     },
     "execution_count": 19,
     "metadata": {},
     "output_type": "execute_result"
    }
   ],
   "source": [
    "y_test[:5]\n",
    "\n",
    "# 23344    1\n",
    "# 18640    0\n",
    "# 43917    2\n",
    "# 41110    2\n",
    "# 5511     0\n",
    "# Name: label_num, dtype: int64"
   ]
  },
  {
   "cell_type": "code",
   "execution_count": 20,
   "metadata": {},
   "outputs": [
    {
     "data": {
      "text/plain": [
       "array([1, 0, 2, 2, 0], dtype=int64)"
      ]
     },
     "execution_count": 20,
     "metadata": {},
     "output_type": "execute_result"
    }
   ],
   "source": [
    "y_pred[:5]\n",
    "\n",
    "# array([1, 0, 2, 2, 0], dtype=int64)"
   ]
  },
  {
   "cell_type": "code",
   "execution_count": 21,
   "metadata": {},
   "outputs": [
    {
     "name": "stdout",
     "output_type": "stream",
     "text": [
      "              precision    recall  f1-score   support\n",
      "\n",
      "           0       0.91      0.95      0.93      1734\n",
      "           1       0.97      0.94      0.95      1735\n",
      "           2       0.95      0.94      0.94      1734\n",
      "           3       0.97      0.97      0.97      1734\n",
      "\n",
      "    accuracy                           0.95      6937\n",
      "   macro avg       0.95      0.95      0.95      6937\n",
      "weighted avg       0.95      0.95      0.95      6937\n",
      "\n"
     ]
    }
   ],
   "source": [
    "from sklearn.naive_bayes import MultinomialNB\n",
    "\n",
    "\n",
    "#1. create a pipeline object\n",
    "clf = Pipeline([\n",
    "     ('vectorizer_tfidf',TfidfVectorizer()),    \n",
    "     ('Multi NB', MultinomialNB())         \n",
    "])\n",
    "\n",
    "#2. fit with X_train and y_train\n",
    "clf.fit(X_train, y_train)\n",
    "\n",
    "\n",
    "#3. get the predictions for X_test and store it in y_pred\n",
    "y_pred = clf.predict(X_test)\n",
    "\n",
    "\n",
    "#4. print the classfication report\n",
    "print(classification_report(y_test, y_pred))\n",
    "\n",
    "#         precision    recall  f1-score   support\n",
    "\n",
    "#            0       0.91      0.95      0.93      1734\n",
    "#            1       0.97      0.94      0.95      1735\n",
    "#            2       0.95      0.94      0.94      1734\n",
    "#            3       0.97      0.97      0.97      1734\n",
    "\n",
    "#     accuracy                           0.95      6937\n",
    "#    macro avg       0.95      0.95      0.95      6937\n",
    "# weighted avg       0.95      0.95      0.95      6937\n"
   ]
  },
  {
   "cell_type": "code",
   "execution_count": 22,
   "metadata": {},
   "outputs": [
    {
     "name": "stdout",
     "output_type": "stream",
     "text": [
      "              precision    recall  f1-score   support\n",
      "\n",
      "           0       0.93      0.95      0.94      1734\n",
      "           1       0.97      0.96      0.97      1735\n",
      "           2       0.97      0.95      0.96      1734\n",
      "           3       0.97      0.98      0.97      1734\n",
      "\n",
      "    accuracy                           0.96      6937\n",
      "   macro avg       0.96      0.96      0.96      6937\n",
      "weighted avg       0.96      0.96      0.96      6937\n",
      "\n"
     ]
    }
   ],
   "source": [
    "from sklearn.ensemble import RandomForestClassifier\n",
    "\n",
    "#1. create a pipeline object\n",
    "clf = Pipeline([\n",
    "     ('vectorizer_tfidf',TfidfVectorizer()),        #using the ngram_range parameter \n",
    "     ('Random Forest', RandomForestClassifier())         \n",
    "])\n",
    "\n",
    "#2. fit with X_train and y_train\n",
    "clf.fit(X_train, y_train)\n",
    "\n",
    "\n",
    "#3. get the predictions for X_test and store it in y_pred\n",
    "y_pred = clf.predict(X_test)\n",
    "\n",
    "\n",
    "#4. print the classfication report\n",
    "print(classification_report(y_test, y_pred))\n",
    "\n",
    "#               precision    recall  f1-score   support\n",
    "\n",
    "#            0       0.93      0.95      0.94      1734\n",
    "#            1       0.97      0.96      0.97      1735\n",
    "#            2       0.97      0.95      0.96      1734\n",
    "#            3       0.97      0.98      0.97      1734\n",
    "\n",
    "#     accuracy                           0.96      6937\n",
    "#    macro avg       0.96      0.96      0.96      6937\n",
    "# weighted avg       0.96      0.96      0.96      6937\n"
   ]
  },
  {
   "cell_type": "code",
   "execution_count": 35,
   "metadata": {},
   "outputs": [
    {
     "name": "stdout",
     "output_type": "stream",
     "text": [
      "⚠ As of spaCy v3.0, shortcuts like 'en' are deprecated. Please use the full\n",
      "pipeline package name 'en_core_web_sm' instead.\n",
      "Collecting en-core-web-sm==3.4.1\n",
      "  Using cached https://github.com/explosion/spacy-models/releases/download/en_core_web_sm-3.4.1/en_core_web_sm-3.4.1-py3-none-any.whl (12.8 MB)\n",
      "Requirement already satisfied: spacy<3.5.0,>=3.4.0 in c:\\users\\leeng\\appdata\\local\\programs\\python\\python310\\lib\\site-packages (from en-core-web-sm==3.4.1) (3.4.2)\n",
      "Requirement already satisfied: typer<0.5.0,>=0.3.0 in c:\\users\\leeng\\appdata\\local\\programs\\python\\python310\\lib\\site-packages (from spacy<3.5.0,>=3.4.0->en-core-web-sm==3.4.1) (0.4.2)\n",
      "Requirement already satisfied: wasabi<1.1.0,>=0.9.1 in c:\\users\\leeng\\appdata\\local\\programs\\python\\python310\\lib\\site-packages (from spacy<3.5.0,>=3.4.0->en-core-web-sm==3.4.1) (0.10.1)\n"
     ]
    },
    {
     "name": "stderr",
     "output_type": "stream",
     "text": [
      "WARNING: You are using pip version 22.0.3; however, version 22.3 is available.\n",
      "You should consider upgrading via the 'c:\\Users\\leeng\\AppData\\Local\\Programs\\Python\\Python310\\python.exe -m pip install --upgrade pip' command.\n"
     ]
    },
    {
     "name": "stdout",
     "output_type": "stream",
     "text": [
      "Requirement already satisfied: jinja2 in c:\\users\\leeng\\appdata\\roaming\\python\\python310\\site-packages (from spacy<3.5.0,>=3.4.0->en-core-web-sm==3.4.1) (3.0.2)\n",
      "Requirement already satisfied: preshed<3.1.0,>=3.0.2 in c:\\users\\leeng\\appdata\\local\\programs\\python\\python310\\lib\\site-packages (from spacy<3.5.0,>=3.4.0->en-core-web-sm==3.4.1) (3.0.8)\n",
      "Requirement already satisfied: langcodes<4.0.0,>=3.2.0 in c:\\users\\leeng\\appdata\\local\\programs\\python\\python310\\lib\\site-packages (from spacy<3.5.0,>=3.4.0->en-core-web-sm==3.4.1) (3.3.0)\n",
      "Requirement already satisfied: murmurhash<1.1.0,>=0.28.0 in c:\\users\\leeng\\appdata\\local\\programs\\python\\python310\\lib\\site-packages (from spacy<3.5.0,>=3.4.0->en-core-web-sm==3.4.1) (1.0.9)\n",
      "Requirement already satisfied: tqdm<5.0.0,>=4.38.0 in c:\\users\\leeng\\appdata\\local\\programs\\python\\python310\\lib\\site-packages (from spacy<3.5.0,>=3.4.0->en-core-web-sm==3.4.1) (4.64.1)\n",
      "Requirement already satisfied: spacy-legacy<3.1.0,>=3.0.10 in c:\\users\\leeng\\appdata\\local\\programs\\python\\python310\\lib\\site-packages (from spacy<3.5.0,>=3.4.0->en-core-web-sm==3.4.1) (3.0.10)\n",
      "Requirement already satisfied: setuptools in c:\\users\\leeng\\appdata\\local\\programs\\python\\python310\\lib\\site-packages (from spacy<3.5.0,>=3.4.0->en-core-web-sm==3.4.1) (58.1.0)\n",
      "Requirement already satisfied: thinc<8.2.0,>=8.1.0 in c:\\users\\leeng\\appdata\\local\\programs\\python\\python310\\lib\\site-packages (from spacy<3.5.0,>=3.4.0->en-core-web-sm==3.4.1) (8.1.5)\n",
      "Requirement already satisfied: pydantic!=1.8,!=1.8.1,<1.11.0,>=1.7.4 in c:\\users\\leeng\\appdata\\local\\programs\\python\\python310\\lib\\site-packages (from spacy<3.5.0,>=3.4.0->en-core-web-sm==3.4.1) (1.10.2)\n",
      "Requirement already satisfied: catalogue<2.1.0,>=2.0.6 in c:\\users\\leeng\\appdata\\local\\programs\\python\\python310\\lib\\site-packages (from spacy<3.5.0,>=3.4.0->en-core-web-sm==3.4.1) (2.0.8)\n",
      "Requirement already satisfied: packaging>=20.0 in c:\\users\\leeng\\appdata\\local\\programs\\python\\python310\\lib\\site-packages (from spacy<3.5.0,>=3.4.0->en-core-web-sm==3.4.1) (21.3)\n",
      "Requirement already satisfied: srsly<3.0.0,>=2.4.3 in c:\\users\\leeng\\appdata\\local\\programs\\python\\python310\\lib\\site-packages (from spacy<3.5.0,>=3.4.0->en-core-web-sm==3.4.1) (2.4.5)\n",
      "Requirement already satisfied: cymem<2.1.0,>=2.0.2 in c:\\users\\leeng\\appdata\\local\\programs\\python\\python310\\lib\\site-packages (from spacy<3.5.0,>=3.4.0->en-core-web-sm==3.4.1) (2.0.7)\n",
      "Requirement already satisfied: requests<3.0.0,>=2.13.0 in c:\\users\\leeng\\appdata\\local\\programs\\python\\python310\\lib\\site-packages (from spacy<3.5.0,>=3.4.0->en-core-web-sm==3.4.1) (2.28.1)\n",
      "Requirement already satisfied: spacy-loggers<2.0.0,>=1.0.0 in c:\\users\\leeng\\appdata\\local\\programs\\python\\python310\\lib\\site-packages (from spacy<3.5.0,>=3.4.0->en-core-web-sm==3.4.1) (1.0.3)\n",
      "Requirement already satisfied: numpy>=1.15.0 in c:\\users\\leeng\\appdata\\local\\programs\\python\\python310\\lib\\site-packages (from spacy<3.5.0,>=3.4.0->en-core-web-sm==3.4.1) (1.22.2)\n",
      "Requirement already satisfied: pathy>=0.3.5 in c:\\users\\leeng\\appdata\\local\\programs\\python\\python310\\lib\\site-packages (from spacy<3.5.0,>=3.4.0->en-core-web-sm==3.4.1) (0.6.2)\n",
      "Requirement already satisfied: pyparsing!=3.0.5,>=2.0.2 in c:\\users\\leeng\\appdata\\roaming\\python\\python310\\site-packages (from packaging>=20.0->spacy<3.5.0,>=3.4.0->en-core-web-sm==3.4.1) (2.4.7)\n",
      "Requirement already satisfied: smart-open<6.0.0,>=5.2.1 in c:\\users\\leeng\\appdata\\local\\programs\\python\\python310\\lib\\site-packages (from pathy>=0.3.5->spacy<3.5.0,>=3.4.0->en-core-web-sm==3.4.1) (5.2.1)\n",
      "Requirement already satisfied: typing-extensions>=4.1.0 in c:\\users\\leeng\\appdata\\local\\programs\\python\\python310\\lib\\site-packages (from pydantic!=1.8,!=1.8.1,<1.11.0,>=1.7.4->spacy<3.5.0,>=3.4.0->en-core-web-sm==3.4.1) (4.4.0)\n",
      "Requirement already satisfied: certifi>=2017.4.17 in c:\\users\\leeng\\appdata\\local\\programs\\python\\python310\\lib\\site-packages (from requests<3.0.0,>=2.13.0->spacy<3.5.0,>=3.4.0->en-core-web-sm==3.4.1) (2022.9.24)\n",
      "Requirement already satisfied: idna<4,>=2.5 in c:\\users\\leeng\\appdata\\local\\programs\\python\\python310\\lib\\site-packages (from requests<3.0.0,>=2.13.0->spacy<3.5.0,>=3.4.0->en-core-web-sm==3.4.1) (3.4)\n",
      "Requirement already satisfied: charset-normalizer<3,>=2 in c:\\users\\leeng\\appdata\\local\\programs\\python\\python310\\lib\\site-packages (from requests<3.0.0,>=2.13.0->spacy<3.5.0,>=3.4.0->en-core-web-sm==3.4.1) (2.1.1)\n",
      "Requirement already satisfied: urllib3<1.27,>=1.21.1 in c:\\users\\leeng\\appdata\\local\\programs\\python\\python310\\lib\\site-packages (from requests<3.0.0,>=2.13.0->spacy<3.5.0,>=3.4.0->en-core-web-sm==3.4.1) (1.26.12)\n",
      "Requirement already satisfied: confection<1.0.0,>=0.0.1 in c:\\users\\leeng\\appdata\\local\\programs\\python\\python310\\lib\\site-packages (from thinc<8.2.0,>=8.1.0->spacy<3.5.0,>=3.4.0->en-core-web-sm==3.4.1) (0.0.3)\n",
      "Requirement already satisfied: blis<0.8.0,>=0.7.8 in c:\\users\\leeng\\appdata\\local\\programs\\python\\python310\\lib\\site-packages (from thinc<8.2.0,>=8.1.0->spacy<3.5.0,>=3.4.0->en-core-web-sm==3.4.1) (0.7.9)\n",
      "Requirement already satisfied: colorama in c:\\users\\leeng\\appdata\\roaming\\python\\python310\\site-packages (from tqdm<5.0.0,>=4.38.0->spacy<3.5.0,>=3.4.0->en-core-web-sm==3.4.1) (0.4.4)\n",
      "Requirement already satisfied: click<9.0.0,>=7.1.1 in c:\\users\\leeng\\appdata\\roaming\\python\\python310\\site-packages (from typer<0.5.0,>=0.3.0->spacy<3.5.0,>=3.4.0->en-core-web-sm==3.4.1) (8.0.1)\n",
      "Requirement already satisfied: MarkupSafe>=2.0 in c:\\users\\leeng\\appdata\\roaming\\python\\python310\\site-packages (from jinja2->spacy<3.5.0,>=3.4.0->en-core-web-sm==3.4.1) (2.0.1)\n",
      "✔ Download and installation successful\n",
      "You can now load the package via spacy.load('en_core_web_sm')\n"
     ]
    }
   ],
   "source": [
    "! python -m spacy download en"
   ]
  },
  {
   "cell_type": "code",
   "execution_count": 23,
   "metadata": {},
   "outputs": [],
   "source": [
    "### utlity function for pre-processing the text\n",
    "import spacy\n",
    "\n",
    "# load english language model and create nlp object from it\n",
    "nlp = spacy.load(\"en_core_web_sm\") # sm= small / medium / large\n",
    "\n",
    "def preprocess(text):\n",
    "    # remove stop words and lemmatize the text\n",
    "    doc = nlp(text)\n",
    "    filtered_tokens = []\n",
    "    for token in doc:\n",
    "        if token.is_stop or token.is_punct:\n",
    "            continue\n",
    "        filtered_tokens.append(token.lemma_)\n",
    "    \n",
    "    return \" \".join(filtered_tokens) "
   ]
  },
  {
   "cell_type": "code",
   "execution_count": 24,
   "metadata": {},
   "outputs": [],
   "source": [
    "dfEqual['preprocessed_txt'] = dfEqual['text'].apply(preprocess) \n"
   ]
  },
  {
   "cell_type": "code",
   "execution_count": 25,
   "metadata": {},
   "outputs": [
    {
     "data": {
      "text/html": [
       "<div>\n",
       "<style scoped>\n",
       "    .dataframe tbody tr th:only-of-type {\n",
       "        vertical-align: middle;\n",
       "    }\n",
       "\n",
       "    .dataframe tbody tr th {\n",
       "        vertical-align: top;\n",
       "    }\n",
       "\n",
       "    .dataframe thead th {\n",
       "        text-align: right;\n",
       "    }\n",
       "</style>\n",
       "<table border=\"1\" class=\"dataframe\">\n",
       "  <thead>\n",
       "    <tr style=\"text-align: right;\">\n",
       "      <th></th>\n",
       "      <th>label</th>\n",
       "      <th>text</th>\n",
       "      <th>label_num</th>\n",
       "      <th>preprocessed_txt</th>\n",
       "    </tr>\n",
       "  </thead>\n",
       "  <tbody>\n",
       "    <tr>\n",
       "      <th>5798</th>\n",
       "      <td>Household</td>\n",
       "      <td>Deco Home Polyester Bedding Set of 1 Duvet, 2 ...</td>\n",
       "      <td>0</td>\n",
       "      <td>Deco Home Polyester Bedding Set 1 Duvet 2 Pill...</td>\n",
       "    </tr>\n",
       "    <tr>\n",
       "      <th>12672</th>\n",
       "      <td>Household</td>\n",
       "      <td>1 : Jura 72629 Clearyl Smart Coffee Machine, G...</td>\n",
       "      <td>0</td>\n",
       "      <td>1 Jura 72629 Clearyl Smart Coffee Machine Gray...</td>\n",
       "    </tr>\n",
       "    <tr>\n",
       "      <th>14970</th>\n",
       "      <td>Household</td>\n",
       "      <td>Mitashi 87 L 2 Star Direct Cool Single Door Re...</td>\n",
       "      <td>0</td>\n",
       "      <td>Mitashi 87 L 2 Star Direct Cool Single Door Re...</td>\n",
       "    </tr>\n",
       "    <tr>\n",
       "      <th>4608</th>\n",
       "      <td>Household</td>\n",
       "      <td>Iris Jasmine Home Fragrance Potpourri (100gm, ...</td>\n",
       "      <td>0</td>\n",
       "      <td>Iris Jasmine Home Fragrance Potpourri 100gm Gr...</td>\n",
       "    </tr>\n",
       "    <tr>\n",
       "      <th>704</th>\n",
       "      <td>Household</td>\n",
       "      <td>Savers Choice Junglewood Textured 4 Door Wardr...</td>\n",
       "      <td>0</td>\n",
       "      <td>saver Choice Junglewood texture 4 Door Wardrob...</td>\n",
       "    </tr>\n",
       "  </tbody>\n",
       "</table>\n",
       "</div>"
      ],
      "text/plain": [
       "           label                                               text  \\\n",
       "5798   Household  Deco Home Polyester Bedding Set of 1 Duvet, 2 ...   \n",
       "12672  Household  1 : Jura 72629 Clearyl Smart Coffee Machine, G...   \n",
       "14970  Household  Mitashi 87 L 2 Star Direct Cool Single Door Re...   \n",
       "4608   Household  Iris Jasmine Home Fragrance Potpourri (100gm, ...   \n",
       "704    Household  Savers Choice Junglewood Textured 4 Door Wardr...   \n",
       "\n",
       "       label_num                                   preprocessed_txt  \n",
       "5798           0  Deco Home Polyester Bedding Set 1 Duvet 2 Pill...  \n",
       "12672          0  1 Jura 72629 Clearyl Smart Coffee Machine Gray...  \n",
       "14970          0  Mitashi 87 L 2 Star Direct Cool Single Door Re...  \n",
       "4608           0  Iris Jasmine Home Fragrance Potpourri 100gm Gr...  \n",
       "704            0  saver Choice Junglewood texture 4 Door Wardrob...  "
      ]
     },
     "execution_count": 25,
     "metadata": {},
     "output_type": "execute_result"
    }
   ],
   "source": [
    "dfEqual.head()\n",
    "\n",
    "\n",
    "# label\ttext\tlabel_num\tpreprocessed_txt\n",
    "# 5798\tHousehold\tDeco Home Polyester Bedding Set of 1 Duvet, 2 ...\t0\tDeco Home Polyester Bedding Set 1 Duvet 2 Pill...\n",
    "# 12672\tHousehold\t1 : Jura 72629 Clearyl Smart Coffee Machine, G...\t0\t1 Jura 72629 Clearyl Smart Coffee Machine Gray...\n",
    "# 14970\tHousehold\tMitashi 87 L 2 Star Direct Cool Single Door Re...\t0\tMitashi 87 L 2 Star Direct Cool Single Door Re...\n",
    "# 4608\tHousehold\tIris Jasmine Home Fragrance Potpourri (100gm, ...\t0\tIris Jasmine Home Fragrance Potpourri 100gm Gr...\n",
    "# 704\tHousehold\tSavers Choice Junglewood Textured 4 Door Wardr...\t0\tsaver Choice Junglewood texture 4 Door Wardrob..."
   ]
  },
  {
   "cell_type": "code",
   "execution_count": 26,
   "metadata": {},
   "outputs": [
    {
     "data": {
      "text/plain": [
       "'Paper Plane Design Framed Wall Hanging Motivational Office Decor Art Prints (8.7 X 8.7 inch) - Set of 4 Painting made up in synthetic frame with uv textured print which gives multi effects and attracts towards it. This is an special series of paintings which makes your wall very beautiful and gives a royal touch. This painting is ready to hang, you would be proud to possess this unique painting that is a niche apart. We use only the most modern and efficient printing technology on our prints, with only the and inks and precision epson, roland and hp printers. This innovative hd printing technique results in durable and spectacular looking prints of the highest that last a lifetime. We print solely with top-notch 100% inks, to achieve brilliant and true colours. Due to their high level of uv resistance, our prints retain their beautiful colours for many years. Add colour and style to your living space with this digitally printed painting. Some are for pleasure and some for eternal bliss.so bring home this elegant print that is lushed with rich colors that makes it nothing but sheer elegance to be to your friends and family.it would be treasured forever by whoever your lucky recipient is. Liven up your place with these intriguing paintings that are high definition hd graphic digital prints for home, office or any room.'"
      ]
     },
     "execution_count": 26,
     "metadata": {},
     "output_type": "execute_result"
    }
   ],
   "source": [
    "dfEqual.text[0]"
   ]
  },
  {
   "cell_type": "code",
   "execution_count": 27,
   "metadata": {},
   "outputs": [
    {
     "data": {
      "text/plain": [
       "'paper Plane Design Framed Wall Hanging Motivational Office Decor Art Prints 8.7 x 8.7 inch Set 4 painting synthetic frame uv textured print give multi effect attract special series painting make wall beautiful give royal touch painting ready hang proud possess unique painting niche apart use modern efficient printing technology print ink precision epson roland hp printer innovative hd printing technique result durable spectacular look print high lifetime print solely notch 100 ink achieve brilliant true colour high level uv resistance print retain beautiful colour year add colour style live space digitally print painting pleasure eternal bliss.so bring home elegant print lushe rich color make sheer elegance friend family.it treasure forever lucky recipient liven place intriguing painting high definition hd graphic digital print home office room'"
      ]
     },
     "execution_count": 27,
     "metadata": {},
     "output_type": "execute_result"
    }
   ],
   "source": [
    "dfEqual.preprocessed_txt[0]"
   ]
  },
  {
   "cell_type": "code",
   "execution_count": 28,
   "metadata": {},
   "outputs": [],
   "source": [
    "X_train, X_test, y_train, y_test = train_test_split(\n",
    "    dfEqual.preprocessed_txt, \n",
    "    dfEqual.label_num,\n",
    "    test_size=0.2, # 20% samples will go to test dataset\n",
    "    random_state=2022,\n",
    "    stratify=dfEqual.label_num\n",
    ")"
   ]
  },
  {
   "cell_type": "code",
   "execution_count": 30,
   "metadata": {},
   "outputs": [],
   "source": [
    "#1. create a pipeline object\n",
    "clf = Pipeline([\n",
    "     ('vectorizer_tfidf',TfidfVectorizer()),        #using the ngram_range parameter \n",
    "     ('Random Forest', RandomForestClassifier())         \n",
    "])\n",
    "\n",
    "#2. fit with X_train and y_train\n",
    "clf.fit(X_train, y_train)\n",
    "\n",
    "\n",
    "#3. get the predictions for X_test and store it in y_pred\n",
    "y_pred = clf.predict(X_test)\n",
    "\n",
    "\n",
    "#4. print the classfication report"
   ]
  },
  {
   "cell_type": "code",
   "execution_count": null,
   "metadata": {},
   "outputs": [],
   "source": []
  },
  {
   "cell_type": "markdown",
   "metadata": {},
   "source": []
  }
 ],
 "metadata": {
  "kernelspec": {
   "display_name": "Python 3.10.2 64-bit",
   "language": "python",
   "name": "python3"
  },
  "language_info": {
   "codemirror_mode": {
    "name": "ipython",
    "version": 3
   },
   "file_extension": ".py",
   "mimetype": "text/x-python",
   "name": "python",
   "nbconvert_exporter": "python",
   "pygments_lexer": "ipython3",
   "version": "3.10.2 (tags/v3.10.2:a58ebcc, Jan 17 2022, 14:12:15) [MSC v.1929 64 bit (AMD64)]"
  },
  "orig_nbformat": 4,
  "vscode": {
   "interpreter": {
    "hash": "ec86e37d8c4a33b52b8c61c4f62bc9e1e3a45736683b010ab5b720b527f5b582"
   }
  }
 },
 "nbformat": 4,
 "nbformat_minor": 2
}
