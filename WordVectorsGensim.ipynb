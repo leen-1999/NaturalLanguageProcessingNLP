{
 "cells": [
  {
   "attachments": {},
   "cell_type": "markdown",
   "metadata": {},
   "source": [
    "All gensim models are listed on this page: https://github.com/RaRe-Technologies/gensim-data"
   ]
  },
  {
   "cell_type": "code",
   "execution_count": null,
   "metadata": {},
   "outputs": [],
   "source": [
    "import gensim.downloader as api\n",
    "# This is a huge model (~1.6 gb) and it will take some time to load\n",
    "\n",
    "wv = api.load('word2vec-google-news-300')"
   ]
  },
  {
   "cell_type": "code",
   "execution_count": null,
   "metadata": {},
   "outputs": [],
   "source": [
    "wv.similarity(w1=\"great\", w2=\"good\")\n",
    "#0.729151"
   ]
  },
  {
   "cell_type": "code",
   "execution_count": null,
   "metadata": {},
   "outputs": [],
   "source": [
    "wv.most_similar(\"good\")\n",
    "\n",
    "# [('great', 0.7291510105133057),\n",
    "#  ('bad', 0.7190051078796387),\n",
    "#  ('terrific', 0.6889115571975708),\n",
    "#  ('decent', 0.6837348341941833),\n",
    "#  ('nice', 0.6836092472076416),\n",
    "#  ('excellent', 0.644292950630188),\n",
    "#  ('fantastic', 0.6407778263092041),\n",
    "#  ('better', 0.6120728850364685),\n",
    "#  ('solid', 0.5806034803390503),\n",
    "#  ('lousy', 0.576420247554779)]"
   ]
  },
  {
   "cell_type": "code",
   "execution_count": null,
   "metadata": {},
   "outputs": [],
   "source": [
    "wv.most_similar(\"dog\")\n",
    "\n",
    "# [('dogs', 0.8680489659309387),\n",
    "#  ('puppy', 0.8106428384780884),\n",
    "#  ('pit_bull', 0.780396044254303),\n",
    "#  ('pooch', 0.7627376914024353),\n",
    "#  ('cat', 0.7609457969665527),\n",
    "#  ('golden_retriever', 0.7500901818275452),\n",
    "#  ('German_shepherd', 0.7465174198150635),\n",
    "#  ('Rottweiler', 0.7437615394592285),\n",
    "#  ('beagle', 0.7418621778488159),\n",
    "#  ('pup', 0.740691065788269)]"
   ]
  },
  {
   "cell_type": "code",
   "execution_count": null,
   "metadata": {},
   "outputs": [],
   "source": [
    "wv.most_similar(positive=['king', 'woman'], negative=['man'], topn=5)\n",
    "\n",
    "# [('queen', 0.7118193507194519),\n",
    "#  ('monarch', 0.6189674139022827),\n",
    "#  ('princess', 0.5902431011199951),\n",
    "#  ('crown_prince', 0.5499460697174072),\n",
    "#  ('prince', 0.5377321839332581)]"
   ]
  },
  {
   "cell_type": "code",
   "execution_count": null,
   "metadata": {},
   "outputs": [],
   "source": [
    "wv.most_similar(positive=['france', 'berlin'], negative=['paris'], topn=5)\n",
    "\n",
    "# [('germany', 0.5094343423843384),\n",
    "#  ('european', 0.48650455474853516),\n",
    "#  ('german', 0.4714890420436859),\n",
    "#  ('austria', 0.46964022517204285),\n",
    "#  ('swedish', 0.4645182490348816)]"
   ]
  },
  {
   "cell_type": "code",
   "execution_count": null,
   "metadata": {},
   "outputs": [],
   "source": [
    "wv.doesnt_match([\"facebook\", \"cat\", \"google\", \"microsoft\"])\n",
    "\n",
    "#'cat'"
   ]
  },
  {
   "cell_type": "code",
   "execution_count": null,
   "metadata": {},
   "outputs": [],
   "source": [
    "\n",
    "wv.doesnt_match([\"dog\", \"cat\", \"google\", \"mouse\"])\n",
    "# 'google'"
   ]
  },
  {
   "attachments": {},
   "cell_type": "markdown",
   "metadata": {},
   "source": [
    "<h4>Gensim: Glove</h4>\n",
    "Stanford's page on GloVe: https://nlp.stanford.edu/projects/glove/\n"
   ]
  },
  {
   "cell_type": "code",
   "execution_count": null,
   "metadata": {},
   "outputs": [],
   "source": [
    "glv = api.load(\"glove-twitter-25\")"
   ]
  },
  {
   "cell_type": "code",
   "execution_count": null,
   "metadata": {},
   "outputs": [],
   "source": [
    "glv.most_similar(\"good\")\n",
    "\n",
    "# [('too', 0.9648017287254333),\n",
    "#  ('day', 0.9533665180206299),\n",
    "#  ('well', 0.9503170847892761),\n",
    "#  ('nice', 0.9438973665237427),\n",
    "#  ('better', 0.9425962567329407),\n",
    "#  ('fun', 0.9418926239013672),\n",
    "#  ('much', 0.9413353800773621),\n",
    "#  ('this', 0.9387555122375488),\n",
    "#  ('hope', 0.9383506774902344),\n",
    "#  ('great', 0.9378516674041748)]"
   ]
  },
  {
   "cell_type": "code",
   "execution_count": null,
   "metadata": {},
   "outputs": [],
   "source": [
    "glv.doesnt_match(\"breakfast cereal dinner lunch\".split())\n",
    "#'cereal'"
   ]
  },
  {
   "cell_type": "code",
   "execution_count": null,
   "metadata": {},
   "outputs": [],
   "source": [
    "glv.doesnt_match(\"facebook cat google microsoft\".split())\n",
    "#'cat'"
   ]
  },
  {
   "cell_type": "code",
   "execution_count": null,
   "metadata": {},
   "outputs": [],
   "source": [
    "glv.doesnt_match(\"banana grapes orange human\".split())\n",
    "# 'human'"
   ]
  }
 ],
 "metadata": {
  "kernelspec": {
   "display_name": "Python 3",
   "language": "python",
   "name": "python3"
  },
  "language_info": {
   "codemirror_mode": {
    "name": "ipython",
    "version": 3
   },
   "file_extension": ".py",
   "mimetype": "text/x-python",
   "name": "python",
   "nbconvert_exporter": "python",
   "pygments_lexer": "ipython3",
   "version": "3.10.2 (tags/v3.10.2:a58ebcc, Jan 17 2022, 14:12:15) [MSC v.1929 64 bit (AMD64)]"
  },
  "orig_nbformat": 4,
  "vscode": {
   "interpreter": {
    "hash": "ec86e37d8c4a33b52b8c61c4f62bc9e1e3a45736683b010ab5b720b527f5b582"
   }
  }
 },
 "nbformat": 4,
 "nbformat_minor": 2
}
