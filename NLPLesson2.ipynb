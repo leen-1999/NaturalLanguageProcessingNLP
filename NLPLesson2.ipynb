{
 "cells": [
  {
   "cell_type": "code",
   "execution_count": 80,
   "metadata": {},
   "outputs": [],
   "source": [
    "import re"
   ]
  },
  {
   "cell_type": "code",
   "execution_count": 81,
   "metadata": {},
   "outputs": [
    {
     "name": "stdout",
     "output_type": "stream",
     "text": [
      "['on', 'on']\n",
      "2\n"
     ]
    }
   ],
   "source": [
    "txt=\"on the horizon\"\n",
    "x=re.findall(\"on\",txt)\n",
    "print(x)\n",
    "print(len(x))"
   ]
  },
  {
   "cell_type": "code",
   "execution_count": 82,
   "metadata": {},
   "outputs": [
    {
     "name": "stdout",
     "output_type": "stream",
     "text": [
      "['n', 'r', 'n']\n",
      "There is match\n",
      "0\n"
     ]
    }
   ],
   "source": [
    "# birden fazla karakteri aratıyorum ayrı ayrı a, r, n\n",
    "x = re.findall(\"[arn]\", txt)\n",
    " \n",
    "print(x)\n",
    " \n",
    "if x:\n",
    "  print(\"There is match\")\n",
    "else:\n",
    "  print(\"No match!\")\n",
    "\n",
    "print(x.count('a'))"
   ]
  },
  {
   "cell_type": "code",
   "execution_count": 83,
   "metadata": {},
   "outputs": [
    {
     "name": "stdout",
     "output_type": "stream",
     "text": [
      "The python word located in position : 4\n"
     ]
    }
   ],
   "source": [
    "#search'de aradığım veri setinde varsa hangi indexte olduğunu\n",
    "# x.start() ile öğrenirim\n",
    "txt=\"the python tutorial\"\n",
    "x=re.search(\"python\", txt)\n",
    "print(\"The python word located in position :\", x.start())"
   ]
  },
  {
   "cell_type": "code",
   "execution_count": 84,
   "metadata": {},
   "outputs": [
    {
     "name": "stdout",
     "output_type": "stream",
     "text": [
      "None\n",
      "<re.Match object; span=(0, 6), match='Python'>\n"
     ]
    }
   ],
   "source": [
    "txt = \"Python regular expression Python\"\n",
    "y = re.match(\"regular\", txt) # returns none \n",
    "# regular'ı bulamadı çünkü 0ıncı indexten başladığı için\n",
    "# onu bulamadı. ilk indexten eşleşmesi lazım none döndürmemek için\n",
    "print(y)\n",
    "x = re.match(\"Python\", txt) \n",
    "print(x)"
   ]
  },
  {
   "cell_type": "code",
   "execution_count": 85,
   "metadata": {},
   "outputs": [
    {
     "name": "stdout",
     "output_type": "stream",
     "text": [
      "['the', 'python', 'word', 'located', 'in', 'the', 'position']\n",
      "2\n"
     ]
    }
   ],
   "source": [
    "# \\s = \\s+ boşluklardan itibaren tokenlara ayırıp ve liste olarak döndürür\n",
    "txt=\"The python    word located in the position\"\n",
    "x=re.split(\"\\s+\", txt.lower())\n",
    "print(x)\n",
    "print(x.count('the'))"
   ]
  },
  {
   "cell_type": "code",
   "execution_count": 86,
   "metadata": {},
   "outputs": [
    {
     "name": "stdout",
     "output_type": "stream",
     "text": [
      "['The', 'python', 'word located in position']\n"
     ]
    }
   ],
   "source": [
    "# ilk 2 boşluğu ayır\n",
    "txt=\"The python word located in position\"\n",
    "x=re.split(\"\\s\", txt,2)\n",
    "print(x)"
   ]
  },
  {
   "cell_type": "markdown",
   "metadata": {},
   "source": [
    "The ‘ ^ ’ character checks if the string starts with a particular word or character."
   ]
  },
  {
   "cell_type": "code",
   "execution_count": 87,
   "metadata": {},
   "outputs": [
    {
     "name": "stdout",
     "output_type": "stream",
     "text": [
      "This sentence starts with Python\n"
     ]
    }
   ],
   "source": [
    "txt=\"The Python regular expression is a sequence of characters, that defines a search pattern.\"\n",
    "x=re.findall(\"^The\", txt)\n",
    "if x:\n",
    "  print(\"This sentence starts with Python\")\n",
    "else:\n",
    "  print(\"This sentence doesn't start with Python\")"
   ]
  },
  {
   "cell_type": "markdown",
   "metadata": {},
   "source": [
    "The ‘$‘ character checks if the string ends with a particular word or character."
   ]
  },
  {
   "cell_type": "code",
   "execution_count": 88,
   "metadata": {},
   "outputs": [
    {
     "name": "stdout",
     "output_type": "stream",
     "text": [
      "This sentence ends with Python\n"
     ]
    }
   ],
   "source": [
    "txt=\"The Python regular expression is a sequence of characters, that defines a search Python\"\n",
    "x=re.findall(\"Python$\", txt)\n",
    "if x:\n",
    "  print(\"This sentence ends with Python\")\n",
    "else:\n",
    "  print(\"This sentence doesn't end with Python\")"
   ]
  },
  {
   "cell_type": "code",
   "execution_count": 89,
   "metadata": {},
   "outputs": [
    {
     "name": "stdout",
     "output_type": "stream",
     "text": [
      "False\n"
     ]
    }
   ],
   "source": [
    "x=[]\n",
    "if x:\n",
    "  print('True')\n",
    "else:\n",
    "  print('False')"
   ]
  },
  {
   "cell_type": "code",
   "execution_count": 90,
   "metadata": {},
   "outputs": [
    {
     "name": "stdout",
     "output_type": "stream",
     "text": [
      "['python']\n",
      "1\n",
      "There is at least one match!\n"
     ]
    }
   ],
   "source": [
    "txt=\"The Python regular expression is a sequence of characters, that defines a search pattern.\"\n",
    "x=re.findall(\"Python|C#\".lower(), txt.lower())\n",
    "print(x)\n",
    "print(x.count('Python'.lower()))\n",
    "if x:\n",
    "  print(\"There is at least one match!\")\n",
    "else:\n",
    "  print(\"No match..\")"
   ]
  },
  {
   "cell_type": "code",
   "execution_count": 91,
   "metadata": {},
   "outputs": [
    {
     "name": "stdout",
     "output_type": "stream",
     "text": [
      "['thi']\n",
      "There is at least one match\n"
     ]
    }
   ],
   "source": [
    "#one or more occurrences of a character in a string. +\n",
    "txt=\"This is Python example\"\n",
    "x=re.findall(\"thi+\",txt.lower())\n",
    "print(x)\n",
    "if x:\n",
    "  print(\"There is at least one match\")\n",
    "else:\n",
    "  print(\"No match\")"
   ]
  },
  {
   "cell_type": "code",
   "execution_count": 92,
   "metadata": {},
   "outputs": [
    {
     "name": "stdout",
     "output_type": "stream",
     "text": [
      "['thi', 'th', 'thiii']\n",
      "There is at least one match\n"
     ]
    }
   ],
   "source": [
    "#zero or more occurrences of a character in a string *\n",
    "txt=\"This is Python  thiii example\"\n",
    "x=re.findall(\"thi*\",txt.lower())\n",
    "print(x)\n",
    "if x:\n",
    "  print(\"There is at least one match\")\n",
    "else:\n",
    "  print(\"No match\")"
   ]
  },
  {
   "cell_type": "code",
   "execution_count": 93,
   "metadata": {},
   "outputs": [
    {
     "name": "stdout",
     "output_type": "stream",
     "text": [
      "['h', 'i', 'i', 'h', 'e', 'a', 'e']\n"
     ]
    }
   ],
   "source": [
    "#[a-k] arasındaki karakterler\n",
    "txt=\"This is Python example\"\n",
    "x = re.findall(\"[a-k]\", txt.lower())\n",
    "print(x)"
   ]
  },
  {
   "cell_type": "code",
   "execution_count": 94,
   "metadata": {},
   "outputs": [
    {
     "name": "stdout",
     "output_type": "stream",
     "text": [
      "['1', '0', '0']\n"
     ]
    }
   ],
   "source": [
    "# \\d decimal\n",
    "txt=\"This is Python 100+ example\"\n",
    "x = re.findall(\"\\d\", txt)\n",
    "print(x)"
   ]
  },
  {
   "cell_type": "code",
   "execution_count": 95,
   "metadata": {},
   "outputs": [
    {
     "name": "stdout",
     "output_type": "stream",
     "text": [
      "['hello']\n",
      "There is a match\n"
     ]
    }
   ],
   "source": [
    "# he..o herhangi 2 karakter\n",
    "txt=\"hello World\"\n",
    "x = re.findall(\"he..o\", txt)\n",
    "print(x)\n",
    "if x:\n",
    "  print('There is a match')\n",
    "else:#else if elif\n",
    "  print('No match..')"
   ]
  },
  {
   "cell_type": "code",
   "execution_count": 96,
   "metadata": {},
   "outputs": [
    {
     "name": "stdout",
     "output_type": "stream",
     "text": [
      "['ill']\n",
      "There is a match\n"
     ]
    }
   ],
   "source": [
    "#il{2} kendinden önce gelen karakterden en az 2 tane olsun\n",
    "txt=\"He was ill\"\n",
    "x = re.findall(\"il{2}\", txt)\n",
    " \n",
    "print(x)\n",
    "if x:\n",
    "  print(\"There is a match\")\n",
    "else:\n",
    "  print(\"No match\")"
   ]
  },
  {
   "cell_type": "code",
   "execution_count": 97,
   "metadata": {},
   "outputs": [
    {
     "name": "stdout",
     "output_type": "stream",
     "text": [
      "['T', 'h', 'i', 's', ' ', 'i', 's', ' ', 'P', 'y', 't', 'h', 'o', ' ', 'e', 'x', 'm', 'p', 'l', 'e']\n"
     ]
    }
   ],
   "source": [
    "# [^arn] arn'nin olmadığı karakterleri gösteriyor\n",
    "txt=\"This is Python example\"\n",
    "x = re.findall(\"[^arn]\", txt)\n",
    " \n",
    "print(x)"
   ]
  },
  {
   "cell_type": "code",
   "execution_count": 98,
   "metadata": {},
   "outputs": [
    {
     "name": "stdout",
     "output_type": "stream",
     "text": [
      "['2', '3']\n"
     ]
    }
   ],
   "source": [
    "txt=\"This is Python example 234\"\n",
    "x = re.findall(\"[0123]\", txt) \n",
    "print(x)"
   ]
  },
  {
   "cell_type": "code",
   "execution_count": 99,
   "metadata": {},
   "outputs": [
    {
     "name": "stdout",
     "output_type": "stream",
     "text": [
      "['1', '2', '3']\n",
      "There is a match!\n"
     ]
    }
   ],
   "source": [
    "txt = \"python lectures 123\"\n",
    " \n",
    "x = re.findall(\"[0-9]\", txt)\n",
    " \n",
    "print(x)\n",
    " \n",
    "if x:\n",
    "  print(\"There is a match!\")\n",
    "else:\n",
    "  print(\"No match!\")"
   ]
  },
  {
   "cell_type": "code",
   "execution_count": 100,
   "metadata": {},
   "outputs": [
    {
     "name": "stdout",
     "output_type": "stream",
     "text": [
      "['44']\n",
      "There is a match!\n"
     ]
    }
   ],
   "source": [
    "txt = \"The lesson starts this morning at 44.99.\"\n",
    " \n",
    "#Check if the string has any two-digit numbers, from 00 to 59:\n",
    " # [0-5][0-9]   [0-5]--> [1]1    [0-9] --> [4]5   11:45\n",
    "\n",
    "\n",
    "x = re.findall(\"[0-5][0-9]\", txt)\n",
    " \n",
    "print(x)\n",
    " \n",
    "if x:\n",
    "  print(\"There is a match!\")\n",
    "else:\n",
    "  print(\"No match!\")"
   ]
  },
  {
   "cell_type": "code",
   "execution_count": 101,
   "metadata": {},
   "outputs": [
    {
     "name": "stdout",
     "output_type": "stream",
     "text": [
      "['T', 'h', 'e', 'l', 'e', 's', 's', 'o', 'n', 's', 't', 'a', 'r', 't', 's', 't', 'h', 'i', 's', 'm', 'o', 'r', 'n', 'i', 'n', 'g', 'a', 't']\n",
      "There is a match!\n"
     ]
    }
   ],
   "source": [
    "txt = \"The lesson starts this morning at 11:45.\"\n",
    "x = re.findall(\"[a-zA-Z]\", txt)\n",
    " \n",
    "print(x)\n",
    "if x:\n",
    "  print(\"There is a match!\")\n",
    "else:\n",
    "  print(\"No match!\")"
   ]
  },
  {
   "cell_type": "code",
   "execution_count": 102,
   "metadata": {},
   "outputs": [
    {
     "name": "stdout",
     "output_type": "stream",
     "text": [
      "['python']\n",
      "There is a match!\n"
     ]
    }
   ],
   "source": [
    "# [Pp] ister p ile ister P iile başlasın\n",
    "txt = \"The python lesson starts this morning at 11:45.\"\n",
    "x = re.findall(\"[Pp]ython\", txt)\n",
    "print(x)\n",
    "if x:\n",
    "  print(\"There is a match!\")\n",
    "else:\n",
    "  print(\"No match!\")"
   ]
  },
  {
   "cell_type": "code",
   "execution_count": 103,
   "metadata": {},
   "outputs": [
    {
     "name": "stdout",
     "output_type": "stream",
     "text": [
      "['ill']\n",
      "There is a match!\n"
     ]
    }
   ],
   "source": [
    "txt = \"he was ill.\"\n",
    "x = re.findall(\"[ai]ll\", txt)\n",
    "print(x)\n",
    "if x:\n",
    "  print(\"There is a match!\")\n",
    "else:\n",
    "  print(\"No match!\")"
   ]
  },
  {
   "cell_type": "code",
   "execution_count": 104,
   "metadata": {},
   "outputs": [
    {
     "name": "stdout",
     "output_type": "stream",
     "text": [
      "The@lesson@starts@this@morning@at@11:45.\n"
     ]
    }
   ],
   "source": [
    "txt = \"The lesson starts this morning at 11:45.\"\n",
    "x = re.sub(\"\\s\", \"@\", txt)\n",
    "print(x)"
   ]
  },
  {
   "cell_type": "code",
   "execution_count": 105,
   "metadata": {},
   "outputs": [
    {
     "name": "stdout",
     "output_type": "stream",
     "text": [
      "4\n",
      "None\n",
      "0\n"
     ]
    }
   ],
   "source": [
    "# ? kendinden önce gelen karakter 0 veya 1 kere olsun\n",
    "p = re.compile(\"colou?r\")\n",
    "m = p.search(\"The color green\")\n",
    "print(m.start())                    # returns 4\n",
    "m = p.search(\"abc\")                 # returns None\n",
    "print(m)\n",
    "p = re.compile(\"g?mail\")\n",
    "m = p.search(\"mail\")\n",
    "print(m.start())\n"
   ]
  },
  {
   "cell_type": "markdown",
   "metadata": {},
   "source": [
    "## PANDAS\n"
   ]
  },
  {
   "cell_type": "code",
   "execution_count": 106,
   "metadata": {},
   "outputs": [],
   "source": [
    "import pandas as pd # data processing, CSV file I/O"
   ]
  },
  {
   "cell_type": "code",
   "execution_count": 107,
   "metadata": {},
   "outputs": [
    {
     "name": "stdout",
     "output_type": "stream",
     "text": [
      "Requirement already satisfied: pandas in c:\\users\\leeng\\appdata\\local\\programs\\python\\python310\\lib\\site-packages (1.5.0)\n",
      "Requirement already satisfied: pytz>=2020.1 in c:\\users\\leeng\\appdata\\local\\programs\\python\\python310\\lib\\site-packages (from pandas) (2022.4)\n",
      "Requirement already satisfied: python-dateutil>=2.8.1 in c:\\users\\leeng\\appdata\\roaming\\python\\python310\\site-packages (from pandas) (2.8.2)\n",
      "Requirement already satisfied: numpy>=1.21.0 in c:\\users\\leeng\\appdata\\local\\programs\\python\\python310\\lib\\site-packages (from pandas) (1.22.2)\n",
      "Requirement already satisfied: six>=1.5 in c:\\users\\leeng\\appdata\\roaming\\python\\python310\\site-packages (from python-dateutil>=2.8.1->pandas) (1.16.0)\n"
     ]
    },
    {
     "name": "stderr",
     "output_type": "stream",
     "text": [
      "WARNING: You are using pip version 22.0.3; however, version 22.2.2 is available.\n",
      "You should consider upgrading via the 'C:\\Users\\leeng\\AppData\\Local\\Programs\\Python\\Python310\\python.exe -m pip install --upgrade pip' command.\n"
     ]
    }
   ],
   "source": [
    "! py -m pip install pandas"
   ]
  },
  {
   "cell_type": "code",
   "execution_count": 109,
   "metadata": {},
   "outputs": [
    {
     "name": "stdout",
     "output_type": "stream",
     "text": [
      "Collecting sklearn\n",
      "  Downloading sklearn-0.0.tar.gz (1.1 kB)\n",
      "  Preparing metadata (setup.py): started\n",
      "  Preparing metadata (setup.py): finished with status 'done'\n",
      "Collecting scikit-learn\n",
      "  Downloading scikit_learn-1.1.2-cp310-cp310-win_amd64.whl (7.4 MB)\n",
      "     ---------------------------------------- 7.4/7.4 MB 780.7 kB/s eta 0:00:00\n",
      "Collecting threadpoolctl>=2.0.0\n",
      "  Downloading threadpoolctl-3.1.0-py3-none-any.whl (14 kB)\n",
      "Requirement already satisfied: numpy>=1.17.3 in c:\\users\\leeng\\appdata\\local\\programs\\python\\python310\\lib\\site-packages (from scikit-learn->sklearn) (1.22.2)\n",
      "Requirement already satisfied: scipy>=1.3.2 in c:\\users\\leeng\\appdata\\local\\programs\\python\\python310\\lib\\site-packages (from scikit-learn->sklearn) (1.8.0)\n",
      "Collecting joblib>=1.0.0\n",
      "  Downloading joblib-1.2.0-py3-none-any.whl (297 kB)\n",
      "     ------------------------------------ 298.0/298.0 KB 922.2 kB/s eta 0:00:00\n",
      "Using legacy 'setup.py install' for sklearn, since package 'wheel' is not installed.\n",
      "Installing collected packages: threadpoolctl, joblib, scikit-learn, sklearn\n",
      "  Running setup.py install for sklearn: started\n",
      "  Running setup.py install for sklearn: finished with status 'done'\n",
      "Successfully installed joblib-1.2.0 scikit-learn-1.1.2 sklearn-0.0 threadpoolctl-3.1.0\n"
     ]
    },
    {
     "name": "stderr",
     "output_type": "stream",
     "text": [
      "WARNING: You are using pip version 22.0.3; however, version 22.2.2 is available.\n",
      "You should consider upgrading via the 'C:\\Users\\leeng\\AppData\\Local\\Programs\\Python\\Python310\\python.exe -m pip install --upgrade pip' command.\n"
     ]
    }
   ],
   "source": [
    "! py -m pip install sklearn"
   ]
  },
  {
   "cell_type": "code",
   "execution_count": 110,
   "metadata": {},
   "outputs": [],
   "source": [
    "# from sklearn.datasets import fetch_california_housing\n",
    "\n",
    "# california_housing = fetch_california_housing(as_frame=True)"
   ]
  },
  {
   "cell_type": "code",
   "execution_count": 112,
   "metadata": {},
   "outputs": [],
   "source": [
    "# df = pd.read_csv(\"/content/sample_data/california_housing_train.csv\") gives error with me\n",
    "df = pd.read_csv(\"california_housing_train.csv\")\n",
    "\n",
    "#dataframe"
   ]
  },
  {
   "cell_type": "code",
   "execution_count": 113,
   "metadata": {},
   "outputs": [
    {
     "name": "stdout",
     "output_type": "stream",
     "text": [
      "(17000, 9)\n"
     ]
    }
   ],
   "source": [
    "print(df.shape) # shape() --> rows, colomns"
   ]
  },
  {
   "cell_type": "code",
   "execution_count": 114,
   "metadata": {},
   "outputs": [
    {
     "name": "stdout",
     "output_type": "stream",
     "text": [
      "Index(['longitude', 'latitude', 'housingMedianAge', 'totalRooms',\n",
      "       'totalBedrooms', 'population', 'households', 'medianIncome',\n",
      "       'medianHouseValue'],\n",
      "      dtype='object')\n"
     ]
    }
   ],
   "source": [
    "print(df.columns)"
   ]
  },
  {
   "cell_type": "code",
   "execution_count": 115,
   "metadata": {},
   "outputs": [
    {
     "name": "stdout",
     "output_type": "stream",
     "text": [
      "longitude           float64\n",
      "latitude            float64\n",
      "housingMedianAge      int64\n",
      "totalRooms            int64\n",
      "totalBedrooms         int64\n",
      "population            int64\n",
      "households            int64\n",
      "medianIncome        float64\n",
      "medianHouseValue      int64\n",
      "dtype: object\n"
     ]
    }
   ],
   "source": [
    "print(df.dtypes) # columns2 types"
   ]
  },
  {
   "cell_type": "code",
   "execution_count": 118,
   "metadata": {},
   "outputs": [
    {
     "data": {
      "text/html": [
       "<div>\n",
       "<style scoped>\n",
       "    .dataframe tbody tr th:only-of-type {\n",
       "        vertical-align: middle;\n",
       "    }\n",
       "\n",
       "    .dataframe tbody tr th {\n",
       "        vertical-align: top;\n",
       "    }\n",
       "\n",
       "    .dataframe thead th {\n",
       "        text-align: right;\n",
       "    }\n",
       "</style>\n",
       "<table border=\"1\" class=\"dataframe\">\n",
       "  <thead>\n",
       "    <tr style=\"text-align: right;\">\n",
       "      <th></th>\n",
       "      <th>longitude</th>\n",
       "      <th>latitude</th>\n",
       "      <th>housingMedianAge</th>\n",
       "      <th>totalRooms</th>\n",
       "      <th>totalBedrooms</th>\n",
       "      <th>population</th>\n",
       "      <th>households</th>\n",
       "      <th>medianIncome</th>\n",
       "      <th>medianHouseValue</th>\n",
       "    </tr>\n",
       "  </thead>\n",
       "  <tbody>\n",
       "    <tr>\n",
       "      <th>0</th>\n",
       "      <td>-114.31</td>\n",
       "      <td>34.19</td>\n",
       "      <td>15</td>\n",
       "      <td>5612</td>\n",
       "      <td>1283</td>\n",
       "      <td>1015</td>\n",
       "      <td>472</td>\n",
       "      <td>1.4936</td>\n",
       "      <td>66900</td>\n",
       "    </tr>\n",
       "    <tr>\n",
       "      <th>1</th>\n",
       "      <td>-114.47</td>\n",
       "      <td>34.40</td>\n",
       "      <td>19</td>\n",
       "      <td>7650</td>\n",
       "      <td>1901</td>\n",
       "      <td>1129</td>\n",
       "      <td>463</td>\n",
       "      <td>1.8200</td>\n",
       "      <td>80100</td>\n",
       "    </tr>\n",
       "    <tr>\n",
       "      <th>2</th>\n",
       "      <td>-114.56</td>\n",
       "      <td>33.69</td>\n",
       "      <td>17</td>\n",
       "      <td>720</td>\n",
       "      <td>174</td>\n",
       "      <td>333</td>\n",
       "      <td>117</td>\n",
       "      <td>1.6509</td>\n",
       "      <td>85700</td>\n",
       "    </tr>\n",
       "    <tr>\n",
       "      <th>3</th>\n",
       "      <td>-114.57</td>\n",
       "      <td>33.64</td>\n",
       "      <td>14</td>\n",
       "      <td>1501</td>\n",
       "      <td>337</td>\n",
       "      <td>515</td>\n",
       "      <td>226</td>\n",
       "      <td>3.1917</td>\n",
       "      <td>73400</td>\n",
       "    </tr>\n",
       "    <tr>\n",
       "      <th>4</th>\n",
       "      <td>-114.57</td>\n",
       "      <td>33.57</td>\n",
       "      <td>20</td>\n",
       "      <td>1454</td>\n",
       "      <td>326</td>\n",
       "      <td>624</td>\n",
       "      <td>262</td>\n",
       "      <td>1.9250</td>\n",
       "      <td>65500</td>\n",
       "    </tr>\n",
       "  </tbody>\n",
       "</table>\n",
       "</div>"
      ],
      "text/plain": [
       "   longitude  latitude  housingMedianAge  totalRooms  totalBedrooms  \\\n",
       "0    -114.31     34.19                15        5612           1283   \n",
       "1    -114.47     34.40                19        7650           1901   \n",
       "2    -114.56     33.69                17         720            174   \n",
       "3    -114.57     33.64                14        1501            337   \n",
       "4    -114.57     33.57                20        1454            326   \n",
       "\n",
       "   population  households  medianIncome  medianHouseValue  \n",
       "0        1015         472        1.4936             66900  \n",
       "1        1129         463        1.8200             80100  \n",
       "2         333         117        1.6509             85700  \n",
       "3         515         226        3.1917             73400  \n",
       "4         624         262        1.9250             65500  "
      ]
     },
     "execution_count": 118,
     "metadata": {},
     "output_type": "execute_result"
    }
   ],
   "source": [
    "df.head() # default olarak ilk 5 veriyi gösteriyor\n",
    "# df.head(3) ilk 3 veriyi gösteriyor"
   ]
  },
  {
   "cell_type": "code",
   "execution_count": 119,
   "metadata": {},
   "outputs": [
    {
     "data": {
      "text/html": [
       "<div>\n",
       "<style scoped>\n",
       "    .dataframe tbody tr th:only-of-type {\n",
       "        vertical-align: middle;\n",
       "    }\n",
       "\n",
       "    .dataframe tbody tr th {\n",
       "        vertical-align: top;\n",
       "    }\n",
       "\n",
       "    .dataframe thead th {\n",
       "        text-align: right;\n",
       "    }\n",
       "</style>\n",
       "<table border=\"1\" class=\"dataframe\">\n",
       "  <thead>\n",
       "    <tr style=\"text-align: right;\">\n",
       "      <th></th>\n",
       "      <th>longitude</th>\n",
       "      <th>latitude</th>\n",
       "      <th>housingMedianAge</th>\n",
       "      <th>totalRooms</th>\n",
       "      <th>totalBedrooms</th>\n",
       "      <th>population</th>\n",
       "      <th>households</th>\n",
       "      <th>medianIncome</th>\n",
       "      <th>medianHouseValue</th>\n",
       "    </tr>\n",
       "  </thead>\n",
       "  <tbody>\n",
       "    <tr>\n",
       "      <th>16997</th>\n",
       "      <td>-124.30</td>\n",
       "      <td>41.84</td>\n",
       "      <td>17</td>\n",
       "      <td>2677</td>\n",
       "      <td>531</td>\n",
       "      <td>1244</td>\n",
       "      <td>456</td>\n",
       "      <td>3.0313</td>\n",
       "      <td>103600</td>\n",
       "    </tr>\n",
       "    <tr>\n",
       "      <th>16998</th>\n",
       "      <td>-124.30</td>\n",
       "      <td>41.80</td>\n",
       "      <td>19</td>\n",
       "      <td>2672</td>\n",
       "      <td>552</td>\n",
       "      <td>1298</td>\n",
       "      <td>478</td>\n",
       "      <td>1.9797</td>\n",
       "      <td>85800</td>\n",
       "    </tr>\n",
       "    <tr>\n",
       "      <th>16999</th>\n",
       "      <td>-124.35</td>\n",
       "      <td>40.54</td>\n",
       "      <td>52</td>\n",
       "      <td>1820</td>\n",
       "      <td>300</td>\n",
       "      <td>806</td>\n",
       "      <td>270</td>\n",
       "      <td>3.0147</td>\n",
       "      <td>94600</td>\n",
       "    </tr>\n",
       "  </tbody>\n",
       "</table>\n",
       "</div>"
      ],
      "text/plain": [
       "       longitude  latitude  housingMedianAge  totalRooms  totalBedrooms  \\\n",
       "16997    -124.30     41.84                17        2677            531   \n",
       "16998    -124.30     41.80                19        2672            552   \n",
       "16999    -124.35     40.54                52        1820            300   \n",
       "\n",
       "       population  households  medianIncome  medianHouseValue  \n",
       "16997        1244         456        3.0313            103600  \n",
       "16998        1298         478        1.9797             85800  \n",
       "16999         806         270        3.0147             94600  "
      ]
     },
     "execution_count": 119,
     "metadata": {},
     "output_type": "execute_result"
    }
   ],
   "source": [
    "df.tail(3) # head()'in tersi"
   ]
  },
  {
   "cell_type": "code",
   "execution_count": 120,
   "metadata": {},
   "outputs": [
    {
     "name": "stdout",
     "output_type": "stream",
     "text": [
      "<class 'pandas.core.frame.DataFrame'>\n",
      "RangeIndex: 17000 entries, 0 to 16999\n",
      "Data columns (total 9 columns):\n",
      " #   Column            Non-Null Count  Dtype  \n",
      "---  ------            --------------  -----  \n",
      " 0   longitude         17000 non-null  float64\n",
      " 1   latitude          17000 non-null  float64\n",
      " 2   housingMedianAge  17000 non-null  int64  \n",
      " 3   totalRooms        17000 non-null  int64  \n",
      " 4   totalBedrooms     17000 non-null  int64  \n",
      " 5   population        17000 non-null  int64  \n",
      " 6   households        17000 non-null  int64  \n",
      " 7   medianIncome      17000 non-null  float64\n",
      " 8   medianHouseValue  17000 non-null  int64  \n",
      "dtypes: float64(3), int64(6)\n",
      "memory usage: 1.2 MB\n"
     ]
    }
   ],
   "source": [
    "df.info()"
   ]
  },
  {
   "cell_type": "code",
   "execution_count": 121,
   "metadata": {},
   "outputs": [
    {
     "name": "stdout",
     "output_type": "stream",
     "text": [
      "          longitude      latitude  housingMedianAge    totalRooms  \\\n",
      "count  17000.000000  17000.000000      17000.000000  17000.000000   \n",
      "mean    -119.562108     35.625225         28.589353   2643.664412   \n",
      "std        2.005166      2.137340         12.586937   2179.947071   \n",
      "min     -124.350000     32.540000          1.000000      2.000000   \n",
      "25%     -121.790000     33.930000         18.000000   1462.000000   \n",
      "50%     -118.490000     34.250000         29.000000   2127.000000   \n",
      "75%     -118.000000     37.720000         37.000000   3151.250000   \n",
      "max     -114.310000     41.950000         52.000000  37937.000000   \n",
      "\n",
      "       totalBedrooms    population    households  medianIncome  \\\n",
      "count   17000.000000  17000.000000  17000.000000  17000.000000   \n",
      "mean      539.410824   1429.573941    501.221941      3.883578   \n",
      "std       421.499452   1147.852959    384.520841      1.908157   \n",
      "min         1.000000      3.000000      1.000000      0.499900   \n",
      "25%       297.000000    790.000000    282.000000      2.566375   \n",
      "50%       434.000000   1167.000000    409.000000      3.544600   \n",
      "75%       648.250000   1721.000000    605.250000      4.767000   \n",
      "max      6445.000000  35682.000000   6082.000000     15.000100   \n",
      "\n",
      "       medianHouseValue  \n",
      "count      17000.000000  \n",
      "mean      207300.912353  \n",
      "std       115983.764387  \n",
      "min        14999.000000  \n",
      "25%       119400.000000  \n",
      "50%       180400.000000  \n",
      "75%       265000.000000  \n",
      "max       500001.000000  \n"
     ]
    }
   ],
   "source": [
    "print(df.describe()) # verileri matematiksel olarak inceleme"
   ]
  },
  {
   "cell_type": "code",
   "execution_count": 124,
   "metadata": {},
   "outputs": [
    {
     "name": "stdout",
     "output_type": "stream",
     "text": [
      "count    17000.000000\n",
      "mean      2643.664412\n",
      "std       2179.947071\n",
      "min          2.000000\n",
      "25%       1462.000000\n",
      "50%       2127.000000\n",
      "75%       3151.250000\n",
      "max      37937.000000\n",
      "Name: totalRooms, dtype: float64\n"
     ]
    }
   ],
   "source": [
    "print(df[\"totalRooms\"].describe())"
   ]
  },
  {
   "cell_type": "code",
   "execution_count": 125,
   "metadata": {},
   "outputs": [
    {
     "data": {
      "text/plain": [
       "1582     16\n",
       "1527     15\n",
       "1717     14\n",
       "1703     14\n",
       "1471     14\n",
       "         ..\n",
       "5896      1\n",
       "11275     1\n",
       "10626     1\n",
       "151       1\n",
       "2694      1\n",
       "Name: totalRooms, Length: 5533, dtype: int64"
      ]
     },
     "execution_count": 125,
     "metadata": {},
     "output_type": "execute_result"
    }
   ],
   "source": [
    "# hangi kayıttan kaç tane var \n",
    "#ÖR.: total rooms'u 1582 olan 16 kayıt var \n",
    "df[\"totalRooms\"].value_counts()"
   ]
  },
  {
   "cell_type": "code",
   "execution_count": 126,
   "metadata": {},
   "outputs": [
    {
     "data": {
      "text/html": [
       "<div>\n",
       "<style scoped>\n",
       "    .dataframe tbody tr th:only-of-type {\n",
       "        vertical-align: middle;\n",
       "    }\n",
       "\n",
       "    .dataframe tbody tr th {\n",
       "        vertical-align: top;\n",
       "    }\n",
       "\n",
       "    .dataframe thead th {\n",
       "        text-align: right;\n",
       "    }\n",
       "</style>\n",
       "<table border=\"1\" class=\"dataframe\">\n",
       "  <thead>\n",
       "    <tr style=\"text-align: right;\">\n",
       "      <th></th>\n",
       "      <th>longitude</th>\n",
       "      <th>latitude</th>\n",
       "      <th>housingMedianAge</th>\n",
       "      <th>totalRooms</th>\n",
       "      <th>totalBedrooms</th>\n",
       "      <th>population</th>\n",
       "      <th>households</th>\n",
       "      <th>medianIncome</th>\n",
       "      <th>medianHouseValue</th>\n",
       "    </tr>\n",
       "  </thead>\n",
       "  <tbody>\n",
       "    <tr>\n",
       "      <th>2064</th>\n",
       "      <td>-117.33</td>\n",
       "      <td>34.03</td>\n",
       "      <td>14</td>\n",
       "      <td>1582</td>\n",
       "      <td>347</td>\n",
       "      <td>825</td>\n",
       "      <td>259</td>\n",
       "      <td>2.8281</td>\n",
       "      <td>106300</td>\n",
       "    </tr>\n",
       "    <tr>\n",
       "      <th>3191</th>\n",
       "      <td>-117.85</td>\n",
       "      <td>34.14</td>\n",
       "      <td>35</td>\n",
       "      <td>1582</td>\n",
       "      <td>248</td>\n",
       "      <td>654</td>\n",
       "      <td>221</td>\n",
       "      <td>4.9091</td>\n",
       "      <td>275000</td>\n",
       "    </tr>\n",
       "    <tr>\n",
       "      <th>3433</th>\n",
       "      <td>-117.89</td>\n",
       "      <td>33.88</td>\n",
       "      <td>33</td>\n",
       "      <td>1582</td>\n",
       "      <td>256</td>\n",
       "      <td>771</td>\n",
       "      <td>240</td>\n",
       "      <td>5.3836</td>\n",
       "      <td>229600</td>\n",
       "    </tr>\n",
       "    <tr>\n",
       "      <th>4828</th>\n",
       "      <td>-118.09</td>\n",
       "      <td>33.91</td>\n",
       "      <td>34</td>\n",
       "      <td>1582</td>\n",
       "      <td>343</td>\n",
       "      <td>1356</td>\n",
       "      <td>324</td>\n",
       "      <td>3.4211</td>\n",
       "      <td>141100</td>\n",
       "    </tr>\n",
       "    <tr>\n",
       "      <th>6332</th>\n",
       "      <td>-118.25</td>\n",
       "      <td>33.89</td>\n",
       "      <td>35</td>\n",
       "      <td>1582</td>\n",
       "      <td>391</td>\n",
       "      <td>1957</td>\n",
       "      <td>404</td>\n",
       "      <td>2.4537</td>\n",
       "      <td>91500</td>\n",
       "    </tr>\n",
       "    <tr>\n",
       "      <th>6586</th>\n",
       "      <td>-118.28</td>\n",
       "      <td>34.04</td>\n",
       "      <td>25</td>\n",
       "      <td>1582</td>\n",
       "      <td>780</td>\n",
       "      <td>2390</td>\n",
       "      <td>719</td>\n",
       "      <td>1.4167</td>\n",
       "      <td>200000</td>\n",
       "    </tr>\n",
       "    <tr>\n",
       "      <th>6726</th>\n",
       "      <td>-118.29</td>\n",
       "      <td>33.98</td>\n",
       "      <td>41</td>\n",
       "      <td>1582</td>\n",
       "      <td>416</td>\n",
       "      <td>1422</td>\n",
       "      <td>370</td>\n",
       "      <td>1.0516</td>\n",
       "      <td>108300</td>\n",
       "    </tr>\n",
       "    <tr>\n",
       "      <th>7208</th>\n",
       "      <td>-118.33</td>\n",
       "      <td>33.99</td>\n",
       "      <td>46</td>\n",
       "      <td>1582</td>\n",
       "      <td>315</td>\n",
       "      <td>777</td>\n",
       "      <td>286</td>\n",
       "      <td>3.2083</td>\n",
       "      <td>149600</td>\n",
       "    </tr>\n",
       "    <tr>\n",
       "      <th>7788</th>\n",
       "      <td>-118.39</td>\n",
       "      <td>34.16</td>\n",
       "      <td>46</td>\n",
       "      <td>1582</td>\n",
       "      <td>279</td>\n",
       "      <td>603</td>\n",
       "      <td>283</td>\n",
       "      <td>5.1169</td>\n",
       "      <td>414300</td>\n",
       "    </tr>\n",
       "    <tr>\n",
       "      <th>8200</th>\n",
       "      <td>-118.44</td>\n",
       "      <td>34.22</td>\n",
       "      <td>41</td>\n",
       "      <td>1582</td>\n",
       "      <td>399</td>\n",
       "      <td>1159</td>\n",
       "      <td>378</td>\n",
       "      <td>2.8250</td>\n",
       "      <td>168600</td>\n",
       "    </tr>\n",
       "    <tr>\n",
       "      <th>8960</th>\n",
       "      <td>-118.90</td>\n",
       "      <td>34.19</td>\n",
       "      <td>26</td>\n",
       "      <td>1582</td>\n",
       "      <td>196</td>\n",
       "      <td>573</td>\n",
       "      <td>182</td>\n",
       "      <td>10.0595</td>\n",
       "      <td>500001</td>\n",
       "    </tr>\n",
       "    <tr>\n",
       "      <th>10121</th>\n",
       "      <td>-119.82</td>\n",
       "      <td>36.78</td>\n",
       "      <td>36</td>\n",
       "      <td>1582</td>\n",
       "      <td>313</td>\n",
       "      <td>761</td>\n",
       "      <td>318</td>\n",
       "      <td>2.6055</td>\n",
       "      <td>69200</td>\n",
       "    </tr>\n",
       "    <tr>\n",
       "      <th>13615</th>\n",
       "      <td>-121.98</td>\n",
       "      <td>37.36</td>\n",
       "      <td>33</td>\n",
       "      <td>1582</td>\n",
       "      <td>272</td>\n",
       "      <td>809</td>\n",
       "      <td>267</td>\n",
       "      <td>5.7059</td>\n",
       "      <td>287200</td>\n",
       "    </tr>\n",
       "    <tr>\n",
       "      <th>13998</th>\n",
       "      <td>-122.04</td>\n",
       "      <td>37.35</td>\n",
       "      <td>28</td>\n",
       "      <td>1582</td>\n",
       "      <td>264</td>\n",
       "      <td>696</td>\n",
       "      <td>270</td>\n",
       "      <td>5.6780</td>\n",
       "      <td>370100</td>\n",
       "    </tr>\n",
       "    <tr>\n",
       "      <th>15937</th>\n",
       "      <td>-122.43</td>\n",
       "      <td>37.76</td>\n",
       "      <td>52</td>\n",
       "      <td>1582</td>\n",
       "      <td>353</td>\n",
       "      <td>868</td>\n",
       "      <td>329</td>\n",
       "      <td>3.8261</td>\n",
       "      <td>250000</td>\n",
       "    </tr>\n",
       "    <tr>\n",
       "      <th>16774</th>\n",
       "      <td>-122.99</td>\n",
       "      <td>39.02</td>\n",
       "      <td>14</td>\n",
       "      <td>1582</td>\n",
       "      <td>301</td>\n",
       "      <td>851</td>\n",
       "      <td>273</td>\n",
       "      <td>3.4500</td>\n",
       "      <td>164100</td>\n",
       "    </tr>\n",
       "  </tbody>\n",
       "</table>\n",
       "</div>"
      ],
      "text/plain": [
       "       longitude  latitude  housingMedianAge  totalRooms  totalBedrooms  \\\n",
       "2064     -117.33     34.03                14        1582            347   \n",
       "3191     -117.85     34.14                35        1582            248   \n",
       "3433     -117.89     33.88                33        1582            256   \n",
       "4828     -118.09     33.91                34        1582            343   \n",
       "6332     -118.25     33.89                35        1582            391   \n",
       "6586     -118.28     34.04                25        1582            780   \n",
       "6726     -118.29     33.98                41        1582            416   \n",
       "7208     -118.33     33.99                46        1582            315   \n",
       "7788     -118.39     34.16                46        1582            279   \n",
       "8200     -118.44     34.22                41        1582            399   \n",
       "8960     -118.90     34.19                26        1582            196   \n",
       "10121    -119.82     36.78                36        1582            313   \n",
       "13615    -121.98     37.36                33        1582            272   \n",
       "13998    -122.04     37.35                28        1582            264   \n",
       "15937    -122.43     37.76                52        1582            353   \n",
       "16774    -122.99     39.02                14        1582            301   \n",
       "\n",
       "       population  households  medianIncome  medianHouseValue  \n",
       "2064          825         259        2.8281            106300  \n",
       "3191          654         221        4.9091            275000  \n",
       "3433          771         240        5.3836            229600  \n",
       "4828         1356         324        3.4211            141100  \n",
       "6332         1957         404        2.4537             91500  \n",
       "6586         2390         719        1.4167            200000  \n",
       "6726         1422         370        1.0516            108300  \n",
       "7208          777         286        3.2083            149600  \n",
       "7788          603         283        5.1169            414300  \n",
       "8200         1159         378        2.8250            168600  \n",
       "8960          573         182       10.0595            500001  \n",
       "10121         761         318        2.6055             69200  \n",
       "13615         809         267        5.7059            287200  \n",
       "13998         696         270        5.6780            370100  \n",
       "15937         868         329        3.8261            250000  \n",
       "16774         851         273        3.4500            164100  "
      ]
     },
     "execution_count": 126,
     "metadata": {},
     "output_type": "execute_result"
    }
   ],
   "source": [
    "df[df[\"totalRooms\"]==1582]"
   ]
  },
  {
   "cell_type": "code",
   "execution_count": 130,
   "metadata": {},
   "outputs": [
    {
     "data": {
      "text/html": [
       "<div>\n",
       "<style scoped>\n",
       "    .dataframe tbody tr th:only-of-type {\n",
       "        vertical-align: middle;\n",
       "    }\n",
       "\n",
       "    .dataframe tbody tr th {\n",
       "        vertical-align: top;\n",
       "    }\n",
       "\n",
       "    .dataframe thead th {\n",
       "        text-align: right;\n",
       "    }\n",
       "</style>\n",
       "<table border=\"1\" class=\"dataframe\">\n",
       "  <thead>\n",
       "    <tr style=\"text-align: right;\">\n",
       "      <th></th>\n",
       "      <th>longitude</th>\n",
       "      <th>latitude</th>\n",
       "      <th>housingMedianAge</th>\n",
       "      <th>totalRooms</th>\n",
       "      <th>totalBedrooms</th>\n",
       "      <th>population</th>\n",
       "      <th>households</th>\n",
       "      <th>medianIncome</th>\n",
       "      <th>medianHouseValue</th>\n",
       "    </tr>\n",
       "  </thead>\n",
       "  <tbody>\n",
       "    <tr>\n",
       "      <th>2990</th>\n",
       "      <td>-117.79</td>\n",
       "      <td>35.21</td>\n",
       "      <td>4</td>\n",
       "      <td>2</td>\n",
       "      <td>2</td>\n",
       "      <td>6</td>\n",
       "      <td>2</td>\n",
       "      <td>2.3750</td>\n",
       "      <td>137500</td>\n",
       "    </tr>\n",
       "    <tr>\n",
       "      <th>16309</th>\n",
       "      <td>-122.50</td>\n",
       "      <td>37.79</td>\n",
       "      <td>52</td>\n",
       "      <td>8</td>\n",
       "      <td>1</td>\n",
       "      <td>13</td>\n",
       "      <td>1</td>\n",
       "      <td>15.0001</td>\n",
       "      <td>500001</td>\n",
       "    </tr>\n",
       "    <tr>\n",
       "      <th>8188</th>\n",
       "      <td>-118.44</td>\n",
       "      <td>34.28</td>\n",
       "      <td>46</td>\n",
       "      <td>11</td>\n",
       "      <td>11</td>\n",
       "      <td>24</td>\n",
       "      <td>13</td>\n",
       "      <td>2.8750</td>\n",
       "      <td>162500</td>\n",
       "    </tr>\n",
       "    <tr>\n",
       "      <th>15369</th>\n",
       "      <td>-122.29</td>\n",
       "      <td>37.81</td>\n",
       "      <td>46</td>\n",
       "      <td>12</td>\n",
       "      <td>4</td>\n",
       "      <td>18</td>\n",
       "      <td>7</td>\n",
       "      <td>0.4999</td>\n",
       "      <td>67500</td>\n",
       "    </tr>\n",
       "    <tr>\n",
       "      <th>15656</th>\n",
       "      <td>-122.37</td>\n",
       "      <td>37.60</td>\n",
       "      <td>26</td>\n",
       "      <td>15</td>\n",
       "      <td>3</td>\n",
       "      <td>11</td>\n",
       "      <td>3</td>\n",
       "      <td>5.0480</td>\n",
       "      <td>350000</td>\n",
       "    </tr>\n",
       "  </tbody>\n",
       "</table>\n",
       "</div>"
      ],
      "text/plain": [
       "       longitude  latitude  housingMedianAge  totalRooms  totalBedrooms  \\\n",
       "2990     -117.79     35.21                 4           2              2   \n",
       "16309    -122.50     37.79                52           8              1   \n",
       "8188     -118.44     34.28                46          11             11   \n",
       "15369    -122.29     37.81                46          12              4   \n",
       "15656    -122.37     37.60                26          15              3   \n",
       "\n",
       "       population  households  medianIncome  medianHouseValue  \n",
       "2990            6           2        2.3750            137500  \n",
       "16309          13           1       15.0001            500001  \n",
       "8188           24          13        2.8750            162500  \n",
       "15369          18           7        0.4999             67500  \n",
       "15656          11           3        5.0480            350000  "
      ]
     },
     "execution_count": 130,
     "metadata": {},
     "output_type": "execute_result"
    }
   ],
   "source": [
    "df.sort_values(by='totalRooms', ascending=True).head()"
   ]
  },
  {
   "cell_type": "code",
   "execution_count": null,
   "metadata": {},
   "outputs": [],
   "source": []
  }
 ],
 "metadata": {
  "kernelspec": {
   "display_name": "Python 3.10.2 64-bit",
   "language": "python",
   "name": "python3"
  },
  "language_info": {
   "codemirror_mode": {
    "name": "ipython",
    "version": 3
   },
   "file_extension": ".py",
   "mimetype": "text/x-python",
   "name": "python",
   "nbconvert_exporter": "python",
   "pygments_lexer": "ipython3",
   "version": "3.10.2"
  },
  "orig_nbformat": 4,
  "vscode": {
   "interpreter": {
    "hash": "ec86e37d8c4a33b52b8c61c4f62bc9e1e3a45736683b010ab5b720b527f5b582"
   }
  }
 },
 "nbformat": 4,
 "nbformat_minor": 2
}
